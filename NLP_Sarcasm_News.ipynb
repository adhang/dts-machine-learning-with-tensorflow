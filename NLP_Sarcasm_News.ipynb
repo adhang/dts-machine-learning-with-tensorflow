{
  "nbformat": 4,
  "nbformat_minor": 0,
  "metadata": {
    "colab": {
      "name": "NLP - Sarcasm News.ipynb",
      "provenance": [],
      "collapsed_sections": [],
      "authorship_tag": "ABX9TyOp2g7IkdE8avRu+xfOYmQz",
      "include_colab_link": true
    },
    "kernelspec": {
      "name": "python3",
      "display_name": "Python 3"
    },
    "language_info": {
      "name": "python"
    }
  },
  "cells": [
    {
      "cell_type": "markdown",
      "metadata": {
        "id": "view-in-github",
        "colab_type": "text"
      },
      "source": [
        "<a href=\"https://colab.research.google.com/github/adhang/dts-machine-learning-with-tensorflow/blob/main/NLP_Sarcasm_News.ipynb\" target=\"_parent\"><img src=\"https://colab.research.google.com/assets/colab-badge.svg\" alt=\"Open In Colab\"/></a>"
      ]
    },
    {
      "cell_type": "markdown",
      "source": [
        "# NLP - Sarcasm News\n",
        "\n",
        "Author: Adhang Muntaha Muhammad\n",
        "\n",
        "[![LinkedIn](https://img.shields.io/badge/linkedin-0077B5?style=for-the-badge&logo=linkedin&logoColor=white&link=https://www.linkedin.com/in/adhangmuntaha/)](https://www.linkedin.com/in/adhangmuntaha/)\n",
        "[![GitHub](https://img.shields.io/badge/github-121011?style=for-the-badge&logo=github&logoColor=white&link=https://github.com/adhang)](https://github.com/adhang)\n",
        "[![Kaggle](https://img.shields.io/badge/kaggle-20BEFF?style=for-the-badge&logo=kaggle&logoColor=white&link=https://www.kaggle.com/adhang)](https://www.kaggle.com/adhang)\n",
        "[![Tableau](https://img.shields.io/badge/tableau-E97627?style=for-the-badge&logo=tableau&logoColor=white&link=https://public.tableau.com/app/profile/adhang)](https://public.tableau.com/app/profile/adhang)\n",
        "___"
      ],
      "metadata": {
        "id": "VsNprFbNpJCD"
      }
    },
    {
      "cell_type": "markdown",
      "source": [
        "# Libraires & Variables"
      ],
      "metadata": {
        "id": "QlLtyKmBYfrH"
      }
    },
    {
      "cell_type": "code",
      "execution_count": 23,
      "metadata": {
        "id": "sk_fjcMDYbJF"
      },
      "outputs": [],
      "source": [
        "import numpy as np\n",
        "import json\n",
        "import tensorflow as tf\n",
        "\n",
        "from tensorflow.keras import layers\n",
        "from tensorflow.keras.preprocessing.text import Tokenizer\n",
        "from tensorflow.keras.preprocessing.sequence import pad_sequences\n",
        "\n",
        "import matplotlib.pyplot as plt\n",
        "import seaborn as sns\n",
        "\n",
        "plt.style.use('fivethirtyeight')\n",
        "sns.set_style('white')\n",
        "sns.set_context('notebook', font_scale=1.5, rc={'lines.linewidth':1.5})"
      ]
    },
    {
      "cell_type": "code",
      "source": [
        "vocab_size = 10000\n",
        "embedding_dim = 16\n",
        "max_length = 100\n",
        "trunc_type ='post'\n",
        "padding_type ='post'\n",
        "oov_tok = \"<OOV>\"\n",
        "training_size = 20000\n",
        "num_epochs = 30"
      ],
      "metadata": {
        "id": "2KPt0ngpYlJc"
      },
      "execution_count": 2,
      "outputs": []
    },
    {
      "cell_type": "markdown",
      "source": [
        "# Download and Setup Data"
      ],
      "metadata": {
        "id": "vdiqe0PqZTHH"
      }
    },
    {
      "cell_type": "code",
      "execution_count": 3,
      "metadata": {
        "id": "wM5vTPvLZMth",
        "colab": {
          "base_uri": "https://localhost:8080/"
        },
        "outputId": "a8751021-8f4b-4cbb-e64b-6ea57c380fa7"
      },
      "outputs": [
        {
          "output_type": "stream",
          "name": "stdout",
          "text": [
            "--2022-06-20 13:52:32--  https://storage.googleapis.com/laurencemoroney-blog.appspot.com/sarcasm.json\n",
            "Resolving storage.googleapis.com (storage.googleapis.com)... 142.251.2.128, 142.250.141.128, 2607:f8b0:4023:c0d::80, ...\n",
            "Connecting to storage.googleapis.com (storage.googleapis.com)|142.251.2.128|:443... connected.\n",
            "HTTP request sent, awaiting response... 200 OK\n",
            "Length: 5643545 (5.4M) [application/json]\n",
            "Saving to: ‘/tmp/sarcasm.json’\n",
            "\n",
            "\r/tmp/sarcasm.json     0%[                    ]       0  --.-KB/s               \r/tmp/sarcasm.json   100%[===================>]   5.38M  --.-KB/s    in 0.03s   \n",
            "\n",
            "2022-06-20 13:52:32 (206 MB/s) - ‘/tmp/sarcasm.json’ saved [5643545/5643545]\n",
            "\n"
          ]
        }
      ],
      "source": [
        "!wget --no-check-certificate \\\n",
        "    https://storage.googleapis.com/laurencemoroney-blog.appspot.com/sarcasm.json \\\n",
        "    -O /tmp/sarcasm.json\n",
        "\n",
        "with open(\"/tmp/sarcasm.json\", 'r') as f:\n",
        "    datastore = json.load(f)\n",
        "\n",
        "sentences = [] \n",
        "labels = []\n",
        "urls = []\n",
        "for item in datastore:\n",
        "    sentences.append(item['headline'])\n",
        "    labels.append(item['is_sarcastic'])\n",
        "    urls.append(item['article_link'])"
      ]
    },
    {
      "cell_type": "code",
      "source": [
        "training_sentences = sentences[0:training_size]\n",
        "testing_sentences = sentences[training_size:]\n",
        "training_labels = labels[0:training_size]\n",
        "testing_labels = labels[training_size:]"
      ],
      "metadata": {
        "id": "Tl9OAnbcYv8l"
      },
      "execution_count": 4,
      "outputs": []
    },
    {
      "cell_type": "markdown",
      "source": [
        "# Tokenizer"
      ],
      "metadata": {
        "id": "xv56PTNoYzt7"
      }
    },
    {
      "cell_type": "code",
      "source": [
        "tokenizer = Tokenizer(num_words=vocab_size, oov_token=oov_tok)\n",
        "# num_words = num of vocab that we allow\n",
        "tokenizer.fit_on_texts(training_sentences)\n",
        "\n",
        "word_index = tokenizer.word_index"
      ],
      "metadata": {
        "id": "SXyulEulY1cs"
      },
      "execution_count": 27,
      "outputs": []
    },
    {
      "cell_type": "markdown",
      "source": [
        "# Sequences, Padding, Truncating"
      ],
      "metadata": {
        "id": "xn9_bei3ZDB0"
      }
    },
    {
      "cell_type": "code",
      "source": [
        "training_sequences = tokenizer.texts_to_sequences(training_sentences)\n",
        "training_padded = pad_sequences(training_sequences,\n",
        "                                padding=padding_type, truncating=trunc_type,\n",
        "                                maxlen=max_length)\n",
        "\n",
        "testing_sequences = tokenizer.texts_to_sequences(testing_sentences)\n",
        "testing_padded = pad_sequences(testing_sequences,\n",
        "                               padding=padding_type, truncating=trunc_type,\n",
        "                               maxlen=max_length)"
      ],
      "metadata": {
        "id": "X1vWMgYvY_JK"
      },
      "execution_count": 12,
      "outputs": []
    },
    {
      "cell_type": "markdown",
      "source": [
        "# Model Development"
      ],
      "metadata": {
        "id": "XnGJp4mhZZvs"
      }
    },
    {
      "cell_type": "markdown",
      "source": [
        "## Create Model"
      ],
      "metadata": {
        "id": "D3zBkX3McLtM"
      }
    },
    {
      "cell_type": "code",
      "source": [
        "model = tf.keras.Sequential([\n",
        "                             layers.Embedding(vocab_size, embedding_dim, input_length=max_length),\n",
        "                             layers.GlobalAveragePooling1D(),\n",
        "                            #  layers.Flatten(),\n",
        "                             layers.Dense(32, activation='relu'),\n",
        "                             layers.Dense(1, activation='sigmoid')\n",
        "])"
      ],
      "metadata": {
        "id": "vJu7WP8fZp-z"
      },
      "execution_count": 9,
      "outputs": []
    },
    {
      "cell_type": "markdown",
      "source": [
        "- `GlobalAveragePooling1D` is similar with `Flatten`, but it's more preferable to use `GlobalAveragePooling1D`\n",
        "- Embedding = vector dimension of sentiment (in case of sentiment analysis)\n",
        "- Embedding size 16 = 16 sentiment vector (worst, not bad, ..., ..., good)"
      ],
      "metadata": {
        "id": "i1Z9rPbPaYme"
      }
    },
    {
      "cell_type": "markdown",
      "source": [
        "## Compile"
      ],
      "metadata": {
        "id": "shPWG-iAcJ_j"
      }
    },
    {
      "cell_type": "code",
      "source": [
        "model.compile(loss='binary_crossentropy',\n",
        "              optimizer='adam', \n",
        "              metrics=['accuracy'])"
      ],
      "metadata": {
        "id": "I2DipZ21cOtd"
      },
      "execution_count": 10,
      "outputs": []
    },
    {
      "cell_type": "markdown",
      "source": [
        "## Fit\n",
        "\n",
        "Before fitting, we have to convert our data (list format) into numpy array"
      ],
      "metadata": {
        "id": "sPzfMz5LcWdv"
      }
    },
    {
      "cell_type": "code",
      "source": [
        "training_padded = np.array(training_padded)\n",
        "training_labels = np.array(training_labels)\n",
        "\n",
        "testing_padded = np.array(testing_padded)\n",
        "testing_labels = np.array(testing_labels)"
      ],
      "metadata": {
        "id": "QPlpGrxaj80b"
      },
      "execution_count": 16,
      "outputs": []
    },
    {
      "cell_type": "code",
      "source": [
        "history = model.fit(\n",
        "    training_padded, training_labels,\n",
        "    epochs=num_epochs, validation_data=(testing_padded, testing_labels),\n",
        "    verbose=1\n",
        ")"
      ],
      "metadata": {
        "colab": {
          "base_uri": "https://localhost:8080/"
        },
        "id": "omAjXrjhcVu3",
        "outputId": "38ef10bf-c9de-4609-8c43-3c0b1b6d6001"
      },
      "execution_count": 17,
      "outputs": [
        {
          "output_type": "stream",
          "name": "stdout",
          "text": [
            "Epoch 1/30\n",
            "625/625 [==============================] - 3s 4ms/step - loss: 0.6657 - accuracy: 0.5919 - val_loss: 0.5779 - val_accuracy: 0.7757\n",
            "Epoch 2/30\n",
            "625/625 [==============================] - 2s 4ms/step - loss: 0.4251 - accuracy: 0.8322 - val_loss: 0.3819 - val_accuracy: 0.8426\n",
            "Epoch 3/30\n",
            "625/625 [==============================] - 2s 4ms/step - loss: 0.3081 - accuracy: 0.8765 - val_loss: 0.3535 - val_accuracy: 0.8511\n",
            "Epoch 4/30\n",
            "625/625 [==============================] - 2s 4ms/step - loss: 0.2564 - accuracy: 0.8990 - val_loss: 0.3440 - val_accuracy: 0.8562\n",
            "Epoch 5/30\n",
            "625/625 [==============================] - 2s 4ms/step - loss: 0.2224 - accuracy: 0.9146 - val_loss: 0.3434 - val_accuracy: 0.8569\n",
            "Epoch 6/30\n",
            "625/625 [==============================] - 2s 4ms/step - loss: 0.1949 - accuracy: 0.9272 - val_loss: 0.3510 - val_accuracy: 0.8544\n",
            "Epoch 7/30\n",
            "625/625 [==============================] - 2s 4ms/step - loss: 0.1728 - accuracy: 0.9358 - val_loss: 0.3703 - val_accuracy: 0.8538\n",
            "Epoch 8/30\n",
            "625/625 [==============================] - 2s 4ms/step - loss: 0.1552 - accuracy: 0.9426 - val_loss: 0.3772 - val_accuracy: 0.8530\n",
            "Epoch 9/30\n",
            "625/625 [==============================] - 2s 4ms/step - loss: 0.1413 - accuracy: 0.9493 - val_loss: 0.3976 - val_accuracy: 0.8506\n",
            "Epoch 10/30\n",
            "625/625 [==============================] - 2s 4ms/step - loss: 0.1273 - accuracy: 0.9555 - val_loss: 0.4160 - val_accuracy: 0.8483\n",
            "Epoch 11/30\n",
            "625/625 [==============================] - 2s 4ms/step - loss: 0.1146 - accuracy: 0.9610 - val_loss: 0.4394 - val_accuracy: 0.8466\n",
            "Epoch 12/30\n",
            "625/625 [==============================] - 2s 4ms/step - loss: 0.1072 - accuracy: 0.9620 - val_loss: 0.4583 - val_accuracy: 0.8457\n",
            "Epoch 13/30\n",
            "625/625 [==============================] - 2s 4ms/step - loss: 0.0961 - accuracy: 0.9673 - val_loss: 0.4831 - val_accuracy: 0.8436\n",
            "Epoch 14/30\n",
            "625/625 [==============================] - 2s 4ms/step - loss: 0.0887 - accuracy: 0.9704 - val_loss: 0.5160 - val_accuracy: 0.8360\n",
            "Epoch 15/30\n",
            "625/625 [==============================] - 2s 3ms/step - loss: 0.0817 - accuracy: 0.9737 - val_loss: 0.5389 - val_accuracy: 0.8381\n",
            "Epoch 16/30\n",
            "625/625 [==============================] - 2s 4ms/step - loss: 0.0753 - accuracy: 0.9754 - val_loss: 0.5667 - val_accuracy: 0.8354\n",
            "Epoch 17/30\n",
            "625/625 [==============================] - 2s 4ms/step - loss: 0.0681 - accuracy: 0.9786 - val_loss: 0.5969 - val_accuracy: 0.8326\n",
            "Epoch 18/30\n",
            "625/625 [==============================] - 2s 4ms/step - loss: 0.0629 - accuracy: 0.9807 - val_loss: 0.6402 - val_accuracy: 0.8307\n",
            "Epoch 19/30\n",
            "625/625 [==============================] - 3s 4ms/step - loss: 0.0584 - accuracy: 0.9819 - val_loss: 0.6802 - val_accuracy: 0.8280\n",
            "Epoch 20/30\n",
            "625/625 [==============================] - 2s 4ms/step - loss: 0.0526 - accuracy: 0.9842 - val_loss: 0.7273 - val_accuracy: 0.8253\n",
            "Epoch 21/30\n",
            "625/625 [==============================] - 2s 4ms/step - loss: 0.0497 - accuracy: 0.9846 - val_loss: 0.7501 - val_accuracy: 0.8253\n",
            "Epoch 22/30\n",
            "625/625 [==============================] - 2s 4ms/step - loss: 0.0461 - accuracy: 0.9856 - val_loss: 0.8260 - val_accuracy: 0.8204\n",
            "Epoch 23/30\n",
            "625/625 [==============================] - 2s 4ms/step - loss: 0.0421 - accuracy: 0.9875 - val_loss: 0.8074 - val_accuracy: 0.8226\n",
            "Epoch 24/30\n",
            "625/625 [==============================] - 2s 4ms/step - loss: 0.0392 - accuracy: 0.9885 - val_loss: 0.8369 - val_accuracy: 0.8219\n",
            "Epoch 25/30\n",
            "625/625 [==============================] - 2s 4ms/step - loss: 0.0348 - accuracy: 0.9905 - val_loss: 0.8785 - val_accuracy: 0.8176\n",
            "Epoch 26/30\n",
            "625/625 [==============================] - 2s 4ms/step - loss: 0.0334 - accuracy: 0.9904 - val_loss: 0.9205 - val_accuracy: 0.8196\n",
            "Epoch 27/30\n",
            "625/625 [==============================] - 2s 4ms/step - loss: 0.0319 - accuracy: 0.9908 - val_loss: 0.9780 - val_accuracy: 0.8161\n",
            "Epoch 28/30\n",
            "625/625 [==============================] - 2s 4ms/step - loss: 0.0295 - accuracy: 0.9920 - val_loss: 0.9816 - val_accuracy: 0.8135\n",
            "Epoch 29/30\n",
            "625/625 [==============================] - 2s 3ms/step - loss: 0.0262 - accuracy: 0.9929 - val_loss: 1.0504 - val_accuracy: 0.8141\n",
            "Epoch 30/30\n",
            "625/625 [==============================] - 2s 4ms/step - loss: 0.0258 - accuracy: 0.9930 - val_loss: 1.0964 - val_accuracy: 0.8132\n"
          ]
        }
      ]
    },
    {
      "cell_type": "markdown",
      "source": [
        "## History"
      ],
      "metadata": {
        "id": "CO1UMq9hlQdd"
      }
    },
    {
      "cell_type": "code",
      "source": [
        "_, ax = plt.subplots(figsize=(8,6))\n",
        "\n",
        "epochs = range(1,len(history.history['loss'])+1)\n",
        "\n",
        "sns.lineplot(x=epochs, y=history.history['loss'], \n",
        "             label='Training loss', ax=ax)\n",
        "sns.lineplot(x=epochs, y=history.history['val_loss'], \n",
        "             label='Validation loss', ax=ax)\n",
        "\n",
        "ax.set_ylabel('Loss')\n",
        "ax.set_xlabel('Epoch')\n",
        "ax.set_xlim(1, len(epochs))\n",
        "ax.legend(loc='lower center', \n",
        "          bbox_to_anchor=(0.5, 1), \n",
        "          title='', ncol=2, frameon=False)\n",
        "\n",
        "sns.despine()\n",
        "plt.show()"
      ],
      "metadata": {
        "colab": {
          "base_uri": "https://localhost:8080/",
          "height": 470
        },
        "id": "_J3C7dIQkqCT",
        "outputId": "988717de-a3a7-4bf0-9c56-221f93da7d0d"
      },
      "execution_count": 24,
      "outputs": [
        {
          "output_type": "display_data",
          "data": {
            "text/plain": [
              "<Figure size 576x432 with 1 Axes>"
            ],
            "image/png": "[encoded data removed]"
          },
          "metadata": {}
        }
      ]
    },
    {
      "cell_type": "code",
      "source": [
        "_, ax = plt.subplots(figsize=(8,6))\n",
        "\n",
        "epochs = range(1,len(history.history['accuracy'])+1)\n",
        "\n",
        "sns.lineplot(x=epochs, y=history.history['accuracy'], \n",
        "             label='Training accuracy', ax=ax)\n",
        "sns.lineplot(x=epochs, y=history.history['val_accuracy'], \n",
        "             label='Validation accuracy', ax=ax)\n",
        "\n",
        "ax.set_ylabel('Accuracy')\n",
        "ax.set_xlabel('Epoch')\n",
        "ax.set_xlim(1, len(epochs))\n",
        "ax.legend(loc='lower center', \n",
        "          bbox_to_anchor=(0.5, 1), \n",
        "          title='', ncol=2, frameon=False)\n",
        "\n",
        "sns.despine()\n",
        "plt.show()"
      ],
      "metadata": {
        "colab": {
          "base_uri": "https://localhost:8080/",
          "height": 470
        },
        "id": "vSrTcUJjk5dq",
        "outputId": "febf94f3-d3e5-4186-f0da-870a11cbfa93"
      },
      "execution_count": 25,
      "outputs": [
        {
          "output_type": "display_data",
          "data": {
            "text/plain": [
              "<Figure size 576x432 with 1 Axes>"
            ],
            "image/png": "[encoded data removed]"
          },
          "metadata": {}
        }
      ]
    },
    {
      "cell_type": "markdown",
      "source": [
        "## Predict Sequences"
      ],
      "metadata": {
        "id": "5gGgzGBylBJK"
      }
    },
    {
      "cell_type": "code",
      "source": [
        "sen = ['hello']\n",
        "seq = tokenizer.texts_to_sequences(sen)\n",
        "pad = pad_sequences(seq, padding = padding_type, truncating = trunc_type, maxlen = max_length)\n",
        "print(model.predict(pad))"
      ],
      "metadata": {
        "colab": {
          "base_uri": "https://localhost:8080/"
        },
        "id": "zJLFVCHNky2q",
        "outputId": "e77ad146-0c69-45fb-a8bb-9f157adfc0d6"
      },
      "execution_count": 21,
      "outputs": [
        {
          "output_type": "stream",
          "name": "stdout",
          "text": [
            "[[0.25721714]]\n"
          ]
        }
      ]
    },
    {
      "cell_type": "markdown",
      "source": [
        "# Download the Embeddings"
      ],
      "metadata": {
        "id": "HWI6x92gbdAY"
      }
    },
    {
      "cell_type": "markdown",
      "source": [
        "## Download"
      ],
      "metadata": {
        "id": "HcrZYp_2m8nf"
      }
    },
    {
      "cell_type": "code",
      "source": [
        "reverse_word_index = dict([(value, key) for (key, value) in word_index.items()])\n",
        "e = model.layers[0]\n",
        "weights = e.get_weights()[0]\n",
        "print(weights.shape)"
      ],
      "metadata": {
        "id": "QHaZ-aswb11X",
        "colab": {
          "base_uri": "https://localhost:8080/"
        },
        "outputId": "1939b3a6-b029-488e-8913-6929d6c6a9d2"
      },
      "execution_count": 28,
      "outputs": [
        {
          "output_type": "stream",
          "name": "stdout",
          "text": [
            "(10000, 16)\n"
          ]
        }
      ]
    },
    {
      "cell_type": "code",
      "source": [
        "import io\n",
        "\n",
        "out_v = io.open('vecs.tsv', 'w', encoding='utf-8')\n",
        "out_m = io.open('meta.tsv', 'w', encoding='utf-8')\n",
        "for word_num in range(1, vocab_size):\n",
        "  word = reverse_word_index[word_num]\n",
        "  embeddings = weights[word_num]\n",
        "  out_m.write(word + \"\\n\")\n",
        "  out_v.write('\\t'.join([str(x) for x in embeddings]) + \"\\n\")\n",
        "out_v.close()\n",
        "out_m.close()"
      ],
      "metadata": {
        "id": "k0VBPoi4cAO4"
      },
      "execution_count": 29,
      "outputs": []
    },
    {
      "cell_type": "code",
      "source": [
        "try:\n",
        "  from google.colab import files\n",
        "except ImportError:\n",
        "  pass\n",
        "else:\n",
        "  files.download('vecs.tsv')\n",
        "  files.download('meta.tsv')"
      ],
      "metadata": {
        "id": "_6v_1PRTcKd8",
        "colab": {
          "base_uri": "https://localhost:8080/",
          "height": 17
        },
        "outputId": "9cd62a7d-677d-49db-fc3c-5796d3fe0b47"
      },
      "execution_count": 30,
      "outputs": [
        {
          "output_type": "display_data",
          "data": {
            "text/plain": [
              "<IPython.core.display.Javascript object>"
            ],
            "application/javascript": [
              "\n",
              "    async function download(id, filename, size) {\n",
              "      if (!google.colab.kernel.accessAllowed) {\n",
              "        return;\n",
              "      }\n",
              "      const div = document.createElement('div');\n",
              "      const label = document.createElement('label');\n",
              "      label.textContent = `Downloading \"${filename}\": `;\n",
              "      div.appendChild(label);\n",
              "      const progress = document.createElement('progress');\n",
              "      progress.max = size;\n",
              "      div.appendChild(progress);\n",
              "      document.body.appendChild(div);\n",
              "\n",
              "      const buffers = [];\n",
              "      let downloaded = 0;\n",
              "\n",
              "      const channel = await google.colab.kernel.comms.open(id);\n",
              "      // Send a message to notify the kernel that we're ready.\n",
              "      channel.send({})\n",
              "\n",
              "      for await (const message of channel.messages) {\n",
              "        // Send a message to notify the kernel that we're ready.\n",
              "        channel.send({})\n",
              "        if (message.buffers) {\n",
              "          for (const buffer of message.buffers) {\n",
              "            buffers.push(buffer);\n",
              "            downloaded += buffer.byteLength;\n",
              "            progress.value = downloaded;\n",
              "          }\n",
              "        }\n",
              "      }\n",
              "      const blob = new Blob(buffers, {type: 'application/binary'});\n",
              "      const a = document.createElement('a');\n",
              "      a.href = window.URL.createObjectURL(blob);\n",
              "      a.download = filename;\n",
              "      div.appendChild(a);\n",
              "      a.click();\n",
              "      div.remove();\n",
              "    }\n",
              "  "
            ]
          },
          "metadata": {}
        },
        {
          "output_type": "display_data",
          "data": {
            "text/plain": [
              "<IPython.core.display.Javascript object>"
            ],
            "application/javascript": [
              "download(\"download_f9dec6d9-15a1-4e70-b34e-2e4d257e1f24\", \"vecs.tsv\", 1812752)"
            ]
          },
          "metadata": {}
        },
        {
          "output_type": "display_data",
          "data": {
            "text/plain": [
              "<IPython.core.display.Javascript object>"
            ],
            "application/javascript": [
              "\n",
              "    async function download(id, filename, size) {\n",
              "      if (!google.colab.kernel.accessAllowed) {\n",
              "        return;\n",
              "      }\n",
              "      const div = document.createElement('div');\n",
              "      const label = document.createElement('label');\n",
              "      label.textContent = `Downloading \"${filename}\": `;\n",
              "      div.appendChild(label);\n",
              "      const progress = document.createElement('progress');\n",
              "      progress.max = size;\n",
              "      div.appendChild(progress);\n",
              "      document.body.appendChild(div);\n",
              "\n",
              "      const buffers = [];\n",
              "      let downloaded = 0;\n",
              "\n",
              "      const channel = await google.colab.kernel.comms.open(id);\n",
              "      // Send a message to notify the kernel that we're ready.\n",
              "      channel.send({})\n",
              "\n",
              "      for await (const message of channel.messages) {\n",
              "        // Send a message to notify the kernel that we're ready.\n",
              "        channel.send({})\n",
              "        if (message.buffers) {\n",
              "          for (const buffer of message.buffers) {\n",
              "            buffers.push(buffer);\n",
              "            downloaded += buffer.byteLength;\n",
              "            progress.value = downloaded;\n",
              "          }\n",
              "        }\n",
              "      }\n",
              "      const blob = new Blob(buffers, {type: 'application/binary'});\n",
              "      const a = document.createElement('a');\n",
              "      a.href = window.URL.createObjectURL(blob);\n",
              "      a.download = filename;\n",
              "      div.appendChild(a);\n",
              "      a.click();\n",
              "      div.remove();\n",
              "    }\n",
              "  "
            ]
          },
          "metadata": {}
        },
        {
          "output_type": "display_data",
          "data": {
            "text/plain": [
              "<IPython.core.display.Javascript object>"
            ],
            "application/javascript": [
              "download(\"download_745ef8c8-429e-4c51-89ff-f46e2221f252\", \"meta.tsv\", 75974)"
            ]
          },
          "metadata": {}
        }
      ]
    },
    {
      "cell_type": "markdown",
      "source": [
        "## Try Projecting the Embeddings\n",
        "\n",
        "[Try Projecting Here](https://projector.tensorflow.org/)"
      ],
      "metadata": {
        "id": "370HX5LTlmJO"
      }
    }
  ]
}