{
  "nbformat": 4,
  "nbformat_minor": 0,
  "metadata": {
    "colab": {
      "name": "NLP - Emotion Detection.ipynb",
      "provenance": [],
      "collapsed_sections": [],
      "toc_visible": true,
      "mount_file_id": "1tH2WLLZakmgedmFD3VQaeG7rtTrdMDuY",
      "authorship_tag": "ABX9TyNwczfnpqFAs7zq0DpBeoeW",
      "include_colab_link": true
    },
    "kernelspec": {
      "name": "python3",
      "display_name": "Python 3"
    },
    "language_info": {
      "name": "python"
    },
    "gpuClass": "standard",
    "accelerator": "GPU"
  },
  "cells": [
    {
      "cell_type": "markdown",
      "metadata": {
        "id": "view-in-github",
        "colab_type": "text"
      },
      "source": [
        "<a href=\"https://colab.research.google.com/github/adhang/learn-tensorflow/blob/main/NLP_Emotion_Detection.ipynb\" target=\"_parent\"><img src=\"https://colab.research.google.com/assets/colab-badge.svg\" alt=\"Open In Colab\"/></a>"
      ]
    },
    {
      "cell_type": "markdown",
      "source": [
        "# NLP - Emotion Detection\n",
        "\n",
        "Author: Adhang Muntaha Muhammad\n",
        "\n",
        "[![LinkedIn](https://img.shields.io/badge/linkedin-0077B5?style=for-the-badge&logo=linkedin&logoColor=white&link=https://www.linkedin.com/in/adhangmuntaha/)](https://www.linkedin.com/in/adhangmuntaha/)\n",
        "[![GitHub](https://img.shields.io/badge/github-121011?style=for-the-badge&logo=github&logoColor=white&link=https://github.com/adhang)](https://github.com/adhang)\n",
        "[![Kaggle](https://img.shields.io/badge/kaggle-20BEFF?style=for-the-badge&logo=kaggle&logoColor=white&link=https://www.kaggle.com/adhang)](https://www.kaggle.com/adhang)\n",
        "[![Tableau](https://img.shields.io/badge/tableau-E97627?style=for-the-badge&logo=tableau&logoColor=white&link=https://public.tableau.com/app/profile/adhang)](https://public.tableau.com/app/profile/adhang)\n",
        "___"
      ],
      "metadata": {
        "id": "etPLGy4wCnKA"
      }
    },
    {
      "cell_type": "markdown",
      "source": [
        "# Libraries"
      ],
      "metadata": {
        "id": "erFENyhlCz6a"
      }
    },
    {
      "cell_type": "markdown",
      "source": [
        "## Update"
      ],
      "metadata": {
        "id": "2mn1LtLHL79y"
      }
    },
    {
      "cell_type": "code",
      "source": [
        "# !pip install --upgrade pandas\n",
        "# !pip install --upgrade numpy\n",
        "# !pip install --upgrade scikit-learn\n",
        "# !pip install --upgrade matplotlib\n",
        "# !pip install --upgrade seaborn"
      ],
      "metadata": {
        "id": "QrpP9i9lMK2F"
      },
      "execution_count": 1,
      "outputs": []
    },
    {
      "cell_type": "markdown",
      "source": [
        "## Import"
      ],
      "metadata": {
        "id": "lf9sZy5qL9lb"
      }
    },
    {
      "cell_type": "code",
      "source": [
        "import re\n",
        "import string\n",
        "from shutil import unpack_archive\n",
        "import os\n",
        "\n",
        "import numpy as np\n",
        "import pandas as pd\n",
        "import matplotlib.pyplot as plt\n",
        "import seaborn as sns\n",
        "\n",
        "plt.style.use('fivethirtyeight')\n",
        "sns.set_style('white')\n",
        "sns.set_context('notebook', font_scale=1.5, rc={'lines.linewidth':1.5})\n",
        "\n",
        "from sklearn.preprocessing import LabelEncoder\n",
        "from sklearn.model_selection import train_test_split\n",
        "\n",
        "import tensorflow as tf\n",
        "from tensorflow.keras.utils import to_categorical\n",
        "from tensorflow.keras.preprocessing.text import Tokenizer\n",
        "from tensorflow.keras.preprocessing.sequence import pad_sequences\n",
        "\n",
        "from tensorflow.keras import layers\n",
        "from tensorflow.keras.optimizers import Adam\n",
        "\n",
        "import nltk\n",
        "nltk.download('stopwords')\n",
        "nltk.download('wordnet')\n",
        "nltk.download('omw-1.4')\n",
        "\n",
        "from nltk.corpus import stopwords\n",
        "from nltk.stem import WordNetLemmatizer"
      ],
      "metadata": {
        "id": "ktp4mSGwC2Js",
        "colab": {
          "base_uri": "https://localhost:8080/"
        },
        "outputId": "63a56eb3-1da8-4cd4-c9da-d4be0f0914ee"
      },
      "execution_count": 2,
      "outputs": [
        {
          "output_type": "stream",
          "name": "stderr",
          "text": [
            "[nltk_data] Downloading package stopwords to /root/nltk_data...\n",
            "[nltk_data]   Unzipping corpora/stopwords.zip.\n",
            "[nltk_data] Downloading package wordnet to /root/nltk_data...\n",
            "[nltk_data]   Unzipping corpora/wordnet.zip.\n",
            "[nltk_data] Downloading package omw-1.4 to /root/nltk_data...\n",
            "[nltk_data]   Unzipping corpora/omw-1.4.zip.\n"
          ]
        }
      ]
    },
    {
      "cell_type": "markdown",
      "source": [
        "# Dataset Overview"
      ],
      "metadata": {
        "id": "nZSPd8BpDTV1"
      }
    },
    {
      "cell_type": "markdown",
      "source": [
        "## Reading Datasets"
      ],
      "metadata": {
        "id": "2v2hfUZjDffN"
      }
    },
    {
      "cell_type": "code",
      "execution_count": 3,
      "metadata": {
        "id": "uJGQeRVHwkXa"
      },
      "outputs": [],
      "source": [
        "data_train = pd.read_csv('/content/drive/MyDrive/Learning Course/DTS PROA - ML with Tensorflow/Exercise/Week 6 - NLP/train.txt',\n",
        "                         names=['text','emotion'], sep=';')\n",
        "data_val = pd.read_csv('/content/drive/MyDrive/Learning Course/DTS PROA - ML with Tensorflow/Exercise/Week 6 - NLP/val.txt',\n",
        "                         names=['text','emotion'], sep=';')\n",
        "data_test = pd.read_csv('/content/drive/MyDrive/Learning Course/DTS PROA - ML with Tensorflow/Exercise/Week 6 - NLP/test.txt',\n",
        "                         names=['text','emotion'], sep=';')"
      ]
    },
    {
      "cell_type": "code",
      "source": [
        "data_train.head()"
      ],
      "metadata": {
        "colab": {
          "base_uri": "https://localhost:8080/",
          "height": 206
        },
        "id": "I0RjXVCrDWx3",
        "outputId": "17677795-0ec6-4fa4-d24b-dfe129bdf93f"
      },
      "execution_count": 4,
      "outputs": [
        {
          "output_type": "execute_result",
          "data": {
            "text/plain": [
              "                                                text  emotion\n",
              "0                            i didnt feel humiliated  sadness\n",
              "1  i can go from feeling so hopeless to so damned...  sadness\n",
              "2   im grabbing a minute to post i feel greedy wrong    anger\n",
              "3  i am ever feeling nostalgic about the fireplac...     love\n",
              "4                               i am feeling grouchy    anger"
            ],
            "text/html": [
              "\n",
              "  <div id=\"df-3418e5b5-ef09-42a2-819c-d6c9c7c59582\">\n",
              "    <div class=\"colab-df-container\">\n",
              "      <div>\n",
              "<style scoped>\n",
              "    .dataframe tbody tr th:only-of-type {\n",
              "        vertical-align: middle;\n",
              "    }\n",
              "\n",
              "    .dataframe tbody tr th {\n",
              "        vertical-align: top;\n",
              "    }\n",
              "\n",
              "    .dataframe thead th {\n",
              "        text-align: right;\n",
              "    }\n",
              "</style>\n",
              "<table border=\"1\" class=\"dataframe\">\n",
              "  <thead>\n",
              "    <tr style=\"text-align: right;\">\n",
              "      <th></th>\n",
              "      <th>text</th>\n",
              "      <th>emotion</th>\n",
              "    </tr>\n",
              "  </thead>\n",
              "  <tbody>\n",
              "    <tr>\n",
              "      <th>0</th>\n",
              "      <td>i didnt feel humiliated</td>\n",
              "      <td>sadness</td>\n",
              "    </tr>\n",
              "    <tr>\n",
              "      <th>1</th>\n",
              "      <td>i can go from feeling so hopeless to so damned...</td>\n",
              "      <td>sadness</td>\n",
              "    </tr>\n",
              "    <tr>\n",
              "      <th>2</th>\n",
              "      <td>im grabbing a minute to post i feel greedy wrong</td>\n",
              "      <td>anger</td>\n",
              "    </tr>\n",
              "    <tr>\n",
              "      <th>3</th>\n",
              "      <td>i am ever feeling nostalgic about the fireplac...</td>\n",
              "      <td>love</td>\n",
              "    </tr>\n",
              "    <tr>\n",
              "      <th>4</th>\n",
              "      <td>i am feeling grouchy</td>\n",
              "      <td>anger</td>\n",
              "    </tr>\n",
              "  </tbody>\n",
              "</table>\n",
              "</div>\n",
              "      <button class=\"colab-df-convert\" onclick=\"convertToInteractive('df-3418e5b5-ef09-42a2-819c-d6c9c7c59582')\"\n",
              "              title=\"Convert this dataframe to an interactive table.\"\n",
              "              style=\"display:none;\">\n",
              "        \n",
              "  <svg xmlns=\"http://www.w3.org/2000/svg\" height=\"24px\"viewBox=\"0 0 24 24\"\n",
              "       width=\"24px\">\n",
              "    <path d=\"M0 0h24v24H0V0z\" fill=\"none\"/>\n",
              "    <path d=\"M18.56 5.44l.94 2.06.94-2.06 2.06-.94-2.06-.94-.94-2.06-.94 2.06-2.06.94zm-11 1L8.5 8.5l.94-2.06 2.06-.94-2.06-.94L8.5 2.5l-.94 2.06-2.06.94zm10 10l.94 2.06.94-2.06 2.06-.94-2.06-.94-.94-2.06-.94 2.06-2.06.94z\"/><path d=\"M17.41 7.96l-1.37-1.37c-.4-.4-.92-.59-1.43-.59-.52 0-1.04.2-1.43.59L10.3 9.45l-7.72 7.72c-.78.78-.78 2.05 0 2.83L4 21.41c.39.39.9.59 1.41.59.51 0 1.02-.2 1.41-.59l7.78-7.78 2.81-2.81c.8-.78.8-2.07 0-2.86zM5.41 20L4 18.59l7.72-7.72 1.47 1.35L5.41 20z\"/>\n",
              "  </svg>\n",
              "      </button>\n",
              "      \n",
              "  <style>\n",
              "    .colab-df-container {\n",
              "      display:flex;\n",
              "      flex-wrap:wrap;\n",
              "      gap: 12px;\n",
              "    }\n",
              "\n",
              "    .colab-df-convert {\n",
              "      background-color: #E8F0FE;\n",
              "      border: none;\n",
              "      border-radius: 50%;\n",
              "      cursor: pointer;\n",
              "      display: none;\n",
              "      fill: #1967D2;\n",
              "      height: 32px;\n",
              "      padding: 0 0 0 0;\n",
              "      width: 32px;\n",
              "    }\n",
              "\n",
              "    .colab-df-convert:hover {\n",
              "      background-color: #E2EBFA;\n",
              "      box-shadow: 0px 1px 2px rgba(60, 64, 67, 0.3), 0px 1px 3px 1px rgba(60, 64, 67, 0.15);\n",
              "      fill: #174EA6;\n",
              "    }\n",
              "\n",
              "    [theme=dark] .colab-df-convert {\n",
              "      background-color: #3B4455;\n",
              "      fill: #D2E3FC;\n",
              "    }\n",
              "\n",
              "    [theme=dark] .colab-df-convert:hover {\n",
              "      background-color: #434B5C;\n",
              "      box-shadow: 0px 1px 3px 1px rgba(0, 0, 0, 0.15);\n",
              "      filter: drop-shadow(0px 1px 2px rgba(0, 0, 0, 0.3));\n",
              "      fill: #FFFFFF;\n",
              "    }\n",
              "  </style>\n",
              "\n",
              "      <script>\n",
              "        const buttonEl =\n",
              "          document.querySelector('#df-3418e5b5-ef09-42a2-819c-d6c9c7c59582 button.colab-df-convert');\n",
              "        buttonEl.style.display =\n",
              "          google.colab.kernel.accessAllowed ? 'block' : 'none';\n",
              "\n",
              "        async function convertToInteractive(key) {\n",
              "          const element = document.querySelector('#df-3418e5b5-ef09-42a2-819c-d6c9c7c59582');\n",
              "          const dataTable =\n",
              "            await google.colab.kernel.invokeFunction('convertToInteractive',\n",
              "                                                     [key], {});\n",
              "          if (!dataTable) return;\n",
              "\n",
              "          const docLinkHtml = 'Like what you see? Visit the ' +\n",
              "            '<a target=\"_blank\" href=https://colab.research.google.com/notebooks/data_table.ipynb>data table notebook</a>'\n",
              "            + ' to learn more about interactive tables.';\n",
              "          element.innerHTML = '';\n",
              "          dataTable['output_type'] = 'display_data';\n",
              "          await google.colab.output.renderOutput(dataTable, element);\n",
              "          const docLink = document.createElement('div');\n",
              "          docLink.innerHTML = docLinkHtml;\n",
              "          element.appendChild(docLink);\n",
              "        }\n",
              "      </script>\n",
              "    </div>\n",
              "  </div>\n",
              "  "
            ]
          },
          "metadata": {},
          "execution_count": 4
        }
      ]
    },
    {
      "cell_type": "code",
      "source": [
        "data_val.head()"
      ],
      "metadata": {
        "colab": {
          "base_uri": "https://localhost:8080/",
          "height": 206
        },
        "id": "fMZ2_0meDYsI",
        "outputId": "259614e4-e8e0-4a09-f204-ac8d9646d3cb"
      },
      "execution_count": 5,
      "outputs": [
        {
          "output_type": "execute_result",
          "data": {
            "text/plain": [
              "                                                text  emotion\n",
              "0  im feeling quite sad and sorry for myself but ...  sadness\n",
              "1  i feel like i am still looking at a blank canv...  sadness\n",
              "2                     i feel like a faithful servant     love\n",
              "3                  i am just feeling cranky and blue    anger\n",
              "4  i can have for a treat or if i am feeling festive      joy"
            ],
            "text/html": [
              "\n",
              "  <div id=\"df-871f5e3d-e2b5-420b-b7fb-cca927aef843\">\n",
              "    <div class=\"colab-df-container\">\n",
              "      <div>\n",
              "<style scoped>\n",
              "    .dataframe tbody tr th:only-of-type {\n",
              "        vertical-align: middle;\n",
              "    }\n",
              "\n",
              "    .dataframe tbody tr th {\n",
              "        vertical-align: top;\n",
              "    }\n",
              "\n",
              "    .dataframe thead th {\n",
              "        text-align: right;\n",
              "    }\n",
              "</style>\n",
              "<table border=\"1\" class=\"dataframe\">\n",
              "  <thead>\n",
              "    <tr style=\"text-align: right;\">\n",
              "      <th></th>\n",
              "      <th>text</th>\n",
              "      <th>emotion</th>\n",
              "    </tr>\n",
              "  </thead>\n",
              "  <tbody>\n",
              "    <tr>\n",
              "      <th>0</th>\n",
              "      <td>im feeling quite sad and sorry for myself but ...</td>\n",
              "      <td>sadness</td>\n",
              "    </tr>\n",
              "    <tr>\n",
              "      <th>1</th>\n",
              "      <td>i feel like i am still looking at a blank canv...</td>\n",
              "      <td>sadness</td>\n",
              "    </tr>\n",
              "    <tr>\n",
              "      <th>2</th>\n",
              "      <td>i feel like a faithful servant</td>\n",
              "      <td>love</td>\n",
              "    </tr>\n",
              "    <tr>\n",
              "      <th>3</th>\n",
              "      <td>i am just feeling cranky and blue</td>\n",
              "      <td>anger</td>\n",
              "    </tr>\n",
              "    <tr>\n",
              "      <th>4</th>\n",
              "      <td>i can have for a treat or if i am feeling festive</td>\n",
              "      <td>joy</td>\n",
              "    </tr>\n",
              "  </tbody>\n",
              "</table>\n",
              "</div>\n",
              "      <button class=\"colab-df-convert\" onclick=\"convertToInteractive('df-871f5e3d-e2b5-420b-b7fb-cca927aef843')\"\n",
              "              title=\"Convert this dataframe to an interactive table.\"\n",
              "              style=\"display:none;\">\n",
              "        \n",
              "  <svg xmlns=\"http://www.w3.org/2000/svg\" height=\"24px\"viewBox=\"0 0 24 24\"\n",
              "       width=\"24px\">\n",
              "    <path d=\"M0 0h24v24H0V0z\" fill=\"none\"/>\n",
              "    <path d=\"M18.56 5.44l.94 2.06.94-2.06 2.06-.94-2.06-.94-.94-2.06-.94 2.06-2.06.94zm-11 1L8.5 8.5l.94-2.06 2.06-.94-2.06-.94L8.5 2.5l-.94 2.06-2.06.94zm10 10l.94 2.06.94-2.06 2.06-.94-2.06-.94-.94-2.06-.94 2.06-2.06.94z\"/><path d=\"M17.41 7.96l-1.37-1.37c-.4-.4-.92-.59-1.43-.59-.52 0-1.04.2-1.43.59L10.3 9.45l-7.72 7.72c-.78.78-.78 2.05 0 2.83L4 21.41c.39.39.9.59 1.41.59.51 0 1.02-.2 1.41-.59l7.78-7.78 2.81-2.81c.8-.78.8-2.07 0-2.86zM5.41 20L4 18.59l7.72-7.72 1.47 1.35L5.41 20z\"/>\n",
              "  </svg>\n",
              "      </button>\n",
              "      \n",
              "  <style>\n",
              "    .colab-df-container {\n",
              "      display:flex;\n",
              "      flex-wrap:wrap;\n",
              "      gap: 12px;\n",
              "    }\n",
              "\n",
              "    .colab-df-convert {\n",
              "      background-color: #E8F0FE;\n",
              "      border: none;\n",
              "      border-radius: 50%;\n",
              "      cursor: pointer;\n",
              "      display: none;\n",
              "      fill: #1967D2;\n",
              "      height: 32px;\n",
              "      padding: 0 0 0 0;\n",
              "      width: 32px;\n",
              "    }\n",
              "\n",
              "    .colab-df-convert:hover {\n",
              "      background-color: #E2EBFA;\n",
              "      box-shadow: 0px 1px 2px rgba(60, 64, 67, 0.3), 0px 1px 3px 1px rgba(60, 64, 67, 0.15);\n",
              "      fill: #174EA6;\n",
              "    }\n",
              "\n",
              "    [theme=dark] .colab-df-convert {\n",
              "      background-color: #3B4455;\n",
              "      fill: #D2E3FC;\n",
              "    }\n",
              "\n",
              "    [theme=dark] .colab-df-convert:hover {\n",
              "      background-color: #434B5C;\n",
              "      box-shadow: 0px 1px 3px 1px rgba(0, 0, 0, 0.15);\n",
              "      filter: drop-shadow(0px 1px 2px rgba(0, 0, 0, 0.3));\n",
              "      fill: #FFFFFF;\n",
              "    }\n",
              "  </style>\n",
              "\n",
              "      <script>\n",
              "        const buttonEl =\n",
              "          document.querySelector('#df-871f5e3d-e2b5-420b-b7fb-cca927aef843 button.colab-df-convert');\n",
              "        buttonEl.style.display =\n",
              "          google.colab.kernel.accessAllowed ? 'block' : 'none';\n",
              "\n",
              "        async function convertToInteractive(key) {\n",
              "          const element = document.querySelector('#df-871f5e3d-e2b5-420b-b7fb-cca927aef843');\n",
              "          const dataTable =\n",
              "            await google.colab.kernel.invokeFunction('convertToInteractive',\n",
              "                                                     [key], {});\n",
              "          if (!dataTable) return;\n",
              "\n",
              "          const docLinkHtml = 'Like what you see? Visit the ' +\n",
              "            '<a target=\"_blank\" href=https://colab.research.google.com/notebooks/data_table.ipynb>data table notebook</a>'\n",
              "            + ' to learn more about interactive tables.';\n",
              "          element.innerHTML = '';\n",
              "          dataTable['output_type'] = 'display_data';\n",
              "          await google.colab.output.renderOutput(dataTable, element);\n",
              "          const docLink = document.createElement('div');\n",
              "          docLink.innerHTML = docLinkHtml;\n",
              "          element.appendChild(docLink);\n",
              "        }\n",
              "      </script>\n",
              "    </div>\n",
              "  </div>\n",
              "  "
            ]
          },
          "metadata": {},
          "execution_count": 5
        }
      ]
    },
    {
      "cell_type": "code",
      "source": [
        "data_test.head()"
      ],
      "metadata": {
        "colab": {
          "base_uri": "https://localhost:8080/",
          "height": 206
        },
        "id": "OpDIyiPADap9",
        "outputId": "5a24cd18-13b1-41b9-c53c-823538b37fe2"
      },
      "execution_count": 6,
      "outputs": [
        {
          "output_type": "execute_result",
          "data": {
            "text/plain": [
              "                                                text  emotion\n",
              "0  im feeling rather rotten so im not very ambiti...  sadness\n",
              "1          im updating my blog because i feel shitty  sadness\n",
              "2  i never make her separate from me because i do...  sadness\n",
              "3  i left with my bouquet of red and yellow tulip...      joy\n",
              "4    i was feeling a little vain when i did this one  sadness"
            ],
            "text/html": [
              "\n",
              "  <div id=\"df-f07d2a78-49ec-4de7-aa36-07633b06578b\">\n",
              "    <div class=\"colab-df-container\">\n",
              "      <div>\n",
              "<style scoped>\n",
              "    .dataframe tbody tr th:only-of-type {\n",
              "        vertical-align: middle;\n",
              "    }\n",
              "\n",
              "    .dataframe tbody tr th {\n",
              "        vertical-align: top;\n",
              "    }\n",
              "\n",
              "    .dataframe thead th {\n",
              "        text-align: right;\n",
              "    }\n",
              "</style>\n",
              "<table border=\"1\" class=\"dataframe\">\n",
              "  <thead>\n",
              "    <tr style=\"text-align: right;\">\n",
              "      <th></th>\n",
              "      <th>text</th>\n",
              "      <th>emotion</th>\n",
              "    </tr>\n",
              "  </thead>\n",
              "  <tbody>\n",
              "    <tr>\n",
              "      <th>0</th>\n",
              "      <td>im feeling rather rotten so im not very ambiti...</td>\n",
              "      <td>sadness</td>\n",
              "    </tr>\n",
              "    <tr>\n",
              "      <th>1</th>\n",
              "      <td>im updating my blog because i feel shitty</td>\n",
              "      <td>sadness</td>\n",
              "    </tr>\n",
              "    <tr>\n",
              "      <th>2</th>\n",
              "      <td>i never make her separate from me because i do...</td>\n",
              "      <td>sadness</td>\n",
              "    </tr>\n",
              "    <tr>\n",
              "      <th>3</th>\n",
              "      <td>i left with my bouquet of red and yellow tulip...</td>\n",
              "      <td>joy</td>\n",
              "    </tr>\n",
              "    <tr>\n",
              "      <th>4</th>\n",
              "      <td>i was feeling a little vain when i did this one</td>\n",
              "      <td>sadness</td>\n",
              "    </tr>\n",
              "  </tbody>\n",
              "</table>\n",
              "</div>\n",
              "      <button class=\"colab-df-convert\" onclick=\"convertToInteractive('df-f07d2a78-49ec-4de7-aa36-07633b06578b')\"\n",
              "              title=\"Convert this dataframe to an interactive table.\"\n",
              "              style=\"display:none;\">\n",
              "        \n",
              "  <svg xmlns=\"http://www.w3.org/2000/svg\" height=\"24px\"viewBox=\"0 0 24 24\"\n",
              "       width=\"24px\">\n",
              "    <path d=\"M0 0h24v24H0V0z\" fill=\"none\"/>\n",
              "    <path d=\"M18.56 5.44l.94 2.06.94-2.06 2.06-.94-2.06-.94-.94-2.06-.94 2.06-2.06.94zm-11 1L8.5 8.5l.94-2.06 2.06-.94-2.06-.94L8.5 2.5l-.94 2.06-2.06.94zm10 10l.94 2.06.94-2.06 2.06-.94-2.06-.94-.94-2.06-.94 2.06-2.06.94z\"/><path d=\"M17.41 7.96l-1.37-1.37c-.4-.4-.92-.59-1.43-.59-.52 0-1.04.2-1.43.59L10.3 9.45l-7.72 7.72c-.78.78-.78 2.05 0 2.83L4 21.41c.39.39.9.59 1.41.59.51 0 1.02-.2 1.41-.59l7.78-7.78 2.81-2.81c.8-.78.8-2.07 0-2.86zM5.41 20L4 18.59l7.72-7.72 1.47 1.35L5.41 20z\"/>\n",
              "  </svg>\n",
              "      </button>\n",
              "      \n",
              "  <style>\n",
              "    .colab-df-container {\n",
              "      display:flex;\n",
              "      flex-wrap:wrap;\n",
              "      gap: 12px;\n",
              "    }\n",
              "\n",
              "    .colab-df-convert {\n",
              "      background-color: #E8F0FE;\n",
              "      border: none;\n",
              "      border-radius: 50%;\n",
              "      cursor: pointer;\n",
              "      display: none;\n",
              "      fill: #1967D2;\n",
              "      height: 32px;\n",
              "      padding: 0 0 0 0;\n",
              "      width: 32px;\n",
              "    }\n",
              "\n",
              "    .colab-df-convert:hover {\n",
              "      background-color: #E2EBFA;\n",
              "      box-shadow: 0px 1px 2px rgba(60, 64, 67, 0.3), 0px 1px 3px 1px rgba(60, 64, 67, 0.15);\n",
              "      fill: #174EA6;\n",
              "    }\n",
              "\n",
              "    [theme=dark] .colab-df-convert {\n",
              "      background-color: #3B4455;\n",
              "      fill: #D2E3FC;\n",
              "    }\n",
              "\n",
              "    [theme=dark] .colab-df-convert:hover {\n",
              "      background-color: #434B5C;\n",
              "      box-shadow: 0px 1px 3px 1px rgba(0, 0, 0, 0.15);\n",
              "      filter: drop-shadow(0px 1px 2px rgba(0, 0, 0, 0.3));\n",
              "      fill: #FFFFFF;\n",
              "    }\n",
              "  </style>\n",
              "\n",
              "      <script>\n",
              "        const buttonEl =\n",
              "          document.querySelector('#df-f07d2a78-49ec-4de7-aa36-07633b06578b button.colab-df-convert');\n",
              "        buttonEl.style.display =\n",
              "          google.colab.kernel.accessAllowed ? 'block' : 'none';\n",
              "\n",
              "        async function convertToInteractive(key) {\n",
              "          const element = document.querySelector('#df-f07d2a78-49ec-4de7-aa36-07633b06578b');\n",
              "          const dataTable =\n",
              "            await google.colab.kernel.invokeFunction('convertToInteractive',\n",
              "                                                     [key], {});\n",
              "          if (!dataTable) return;\n",
              "\n",
              "          const docLinkHtml = 'Like what you see? Visit the ' +\n",
              "            '<a target=\"_blank\" href=https://colab.research.google.com/notebooks/data_table.ipynb>data table notebook</a>'\n",
              "            + ' to learn more about interactive tables.';\n",
              "          element.innerHTML = '';\n",
              "          dataTable['output_type'] = 'display_data';\n",
              "          await google.colab.output.renderOutput(dataTable, element);\n",
              "          const docLink = document.createElement('div');\n",
              "          docLink.innerHTML = docLinkHtml;\n",
              "          element.appendChild(docLink);\n",
              "        }\n",
              "      </script>\n",
              "    </div>\n",
              "  </div>\n",
              "  "
            ]
          },
          "metadata": {},
          "execution_count": 6
        }
      ]
    },
    {
      "cell_type": "markdown",
      "source": [
        "## Cleansing\n",
        "\n",
        "- Remove non-alphabetical characters\n",
        "- Convert the text to lower case\n",
        "- Remove stopwords"
      ],
      "metadata": {
        "id": "AOp6R4YkDjbA"
      }
    },
    {
      "cell_type": "code",
      "source": [
        "stop = stopwords.words('english')\n",
        "wordnet_lemmatizer = WordNetLemmatizer()"
      ],
      "metadata": {
        "id": "OuXsTIFqA_ll"
      },
      "execution_count": 7,
      "outputs": []
    },
    {
      "cell_type": "code",
      "source": [
        "def clean(text):\n",
        "  global stop\n",
        "  global word_lemmatizer\n",
        "\n",
        "  # remove non-alphabetical characters\n",
        "  text = re.sub(r'[^a-zA-Z ]', '', text)\n",
        "\n",
        "  # lower case\n",
        "  text = text.lower()\n",
        "\n",
        "  # remove stopwords\n",
        "  text = ' '.join(word for word in text.split() if word not in stop)\n",
        "\n",
        "  # lemmatization\n",
        "  text = ''.join(wordnet_lemmatizer.lemmatize(word) for word in text)\n",
        "\n",
        "  return text"
      ],
      "metadata": {
        "id": "k8zLaki2144m"
      },
      "execution_count": 8,
      "outputs": []
    },
    {
      "cell_type": "code",
      "source": [
        "X_train = data_train['text'].apply(clean)\n",
        "y_train = data_train['emotion']\n",
        "\n",
        "X_test = data_test['text'].apply(clean)\n",
        "y_test = data_test['emotion']\n",
        "\n",
        "X_val = data_val['text'].apply(clean)\n",
        "y_val = data_val['emotion']"
      ],
      "metadata": {
        "id": "igOly243DpUG"
      },
      "execution_count": 9,
      "outputs": []
    },
    {
      "cell_type": "code",
      "source": [
        "data_train['text'].head()"
      ],
      "metadata": {
        "colab": {
          "base_uri": "https://localhost:8080/"
        },
        "id": "9ajYWmvaDzYv",
        "outputId": "1bfc79bd-4026-4129-fb92-f121a4075219"
      },
      "execution_count": 10,
      "outputs": [
        {
          "output_type": "execute_result",
          "data": {
            "text/plain": [
              "0                              i didnt feel humiliated\n",
              "1    i can go from feeling so hopeless to so damned...\n",
              "2     im grabbing a minute to post i feel greedy wrong\n",
              "3    i am ever feeling nostalgic about the fireplac...\n",
              "4                                 i am feeling grouchy\n",
              "Name: text, dtype: object"
            ]
          },
          "metadata": {},
          "execution_count": 10
        }
      ]
    },
    {
      "cell_type": "code",
      "source": [
        "X_train.head()"
      ],
      "metadata": {
        "colab": {
          "base_uri": "https://localhost:8080/"
        },
        "id": "iAtvSafLDtrt",
        "outputId": "06fa812c-09b3-47a6-8d45-ee8f3cc50ee8"
      },
      "execution_count": 11,
      "outputs": [
        {
          "output_type": "execute_result",
          "data": {
            "text/plain": [
              "0                                didnt feel humiliated\n",
              "1    go feeling hopeless damned hopeful around some...\n",
              "2            im grabbing minute post feel greedy wrong\n",
              "3    ever feeling nostalgic fireplace know still pr...\n",
              "4                                      feeling grouchy\n",
              "Name: text, dtype: object"
            ]
          },
          "metadata": {},
          "execution_count": 11
        }
      ]
    },
    {
      "cell_type": "markdown",
      "source": [
        "## Class Distribution"
      ],
      "metadata": {
        "id": "R10Z0Wh0Ec6f"
      }
    },
    {
      "cell_type": "code",
      "source": [
        "colors = ['gray', 'orangered', 'hotpink', 'gold', 'teal', 'cornflowerblue']\n",
        "_, ax = plt.subplots(1,3,figsize=(20,6))\n",
        "# _, ax = plt.subplots(3,1,figsize=(6,12))\n",
        "\n",
        "tmp = y_train.value_counts(normalize=True)\n",
        "tmp.sort_index(inplace=True)\n",
        "sns.barplot(x=tmp.index, y=tmp.values, palette=colors, saturation=1, ax=ax[0])\n",
        "ax[0].set_title('Training Data - Class Count', pad=20)\n",
        "\n",
        "tmp = y_val.value_counts(normalize=True)\n",
        "tmp.sort_index(inplace=True)\n",
        "sns.barplot(x=tmp.index, y=tmp.values, palette=colors, saturation=1, ax=ax[1])\n",
        "ax[1].set_title('Validation Data - Class Count', pad=20)\n",
        "\n",
        "tmp = y_test.value_counts(normalize=True)\n",
        "tmp.sort_index(inplace=True)\n",
        "sns.barplot(x=tmp.index, y=tmp.values, palette=colors, saturation=1, ax=ax[2])\n",
        "ax[2].set_title('Testing Data - Class Count', pad=20)\n",
        "\n",
        "for i in range(0,3):\n",
        "  ax[i].set_xticklabels(ax[i].get_xticklabels(), rotation=90)\n",
        "  ax[i].bar_label(ax[i].containers[0], padding=3, fmt='%.2f%%')\n",
        "  ax[i].set_yticklabels([])\n",
        "\n",
        "sns.despine(left=True, bottom=True)\n",
        "plt.tight_layout()\n",
        "plt.show()"
      ],
      "metadata": {
        "colab": {
          "base_uri": "https://localhost:8080/",
          "height": 269
        },
        "id": "ncv0GJVWH4EP",
        "outputId": "cb6852e3-1ea1-4cac-800a-f86e3d440ada"
      },
      "execution_count": 12,
      "outputs": [
        {
          "output_type": "display_data",
          "data": {
            "text/plain": [
              "<Figure size 1440x432 with 3 Axes>"
            ],
            "image/png": "[encoded data removed]"
          },
          "metadata": {}
        }
      ]
    },
    {
      "cell_type": "markdown",
      "source": [
        "# Preparation"
      ],
      "metadata": {
        "id": "OGacQ7jst8ih"
      }
    },
    {
      "cell_type": "markdown",
      "source": [
        "## Label Encoding\n",
        "\n",
        "Make sure to fit on train data, then transform on all data."
      ],
      "metadata": {
        "id": "TdoXzTg7VJVI"
      }
    },
    {
      "cell_type": "code",
      "source": [
        "le = LabelEncoder()\n",
        "\n",
        "le.fit(y_train)\n",
        "\n",
        "y_train_encode = le.transform(y_train)\n",
        "y_val_encode = le.transform(y_val)\n",
        "y_test_encode = le.transform(y_test)"
      ],
      "metadata": {
        "id": "KqIovSkmJygd"
      },
      "execution_count": 13,
      "outputs": []
    },
    {
      "cell_type": "code",
      "source": [
        "print(y_train[:5].values)\n",
        "print(y_train_encode[:5])"
      ],
      "metadata": {
        "colab": {
          "base_uri": "https://localhost:8080/"
        },
        "id": "__yRH96xVWbt",
        "outputId": "77e02bc6-649d-4bc3-cf38-0615aea1be3f"
      },
      "execution_count": 14,
      "outputs": [
        {
          "output_type": "stream",
          "name": "stdout",
          "text": [
            "['sadness' 'sadness' 'anger' 'love' 'anger']\n",
            "[4 4 0 3 0]\n"
          ]
        }
      ]
    },
    {
      "cell_type": "code",
      "source": [
        "print(y_val[:5].values)\n",
        "print(y_val_encode[:5])"
      ],
      "metadata": {
        "colab": {
          "base_uri": "https://localhost:8080/"
        },
        "id": "rDoXI9xkVXgE",
        "outputId": "1fc024f6-86c8-40d6-b386-fa606e682645"
      },
      "execution_count": 15,
      "outputs": [
        {
          "output_type": "stream",
          "name": "stdout",
          "text": [
            "['sadness' 'sadness' 'love' 'anger' 'joy']\n",
            "[4 4 3 0 2]\n"
          ]
        }
      ]
    },
    {
      "cell_type": "code",
      "source": [
        "print(y_test[:5].values)\n",
        "print(y_test_encode[:5])"
      ],
      "metadata": {
        "colab": {
          "base_uri": "https://localhost:8080/"
        },
        "id": "qtIuy2NcVY41",
        "outputId": "7bf1d75f-24ea-42e0-be4b-2e8fd8763e04"
      },
      "execution_count": 16,
      "outputs": [
        {
          "output_type": "stream",
          "name": "stdout",
          "text": [
            "['sadness' 'sadness' 'sadness' 'joy' 'sadness']\n",
            "[4 4 4 2 4]\n"
          ]
        }
      ]
    },
    {
      "cell_type": "markdown",
      "source": [
        "## Tokenization\n",
        "\n",
        "Always fit only on train data to avoid over-optimistic and data leakage"
      ],
      "metadata": {
        "id": "2E0cPMA2Xkk1"
      }
    },
    {
      "cell_type": "code",
      "source": [
        "# Tokenize words\n",
        "tokenizer = Tokenizer()\n",
        "# tokenizer.fit_on_texts(pd.concat([X_train, X_test], axis=0))\n",
        "tokenizer.fit_on_texts(X_train)\n",
        "\n",
        "sequences_train = tokenizer.texts_to_sequences(X_train)\n",
        "sequences_test = tokenizer.texts_to_sequences(X_test)\n",
        "sequences_val = tokenizer.texts_to_sequences(X_val)\n",
        "\n",
        "X_train_sequence = pad_sequences(sequences_train, maxlen=256, truncating='pre')\n",
        "X_test_sequence = pad_sequences(sequences_test, maxlen=256, truncating='pre')\n",
        "X_val_sequence = pad_sequences(sequences_val, maxlen=256, truncating='pre')\n",
        "\n",
        "vocabSize = len(tokenizer.index_word) + 1\n",
        "print(f'Vocabulary size = {vocabSize}')"
      ],
      "metadata": {
        "colab": {
          "base_uri": "https://localhost:8080/"
        },
        "id": "NG0KYuzVVlbx",
        "outputId": "625d10ae-c75a-4f86-8b86-9a508d2b9b3b"
      },
      "execution_count": 17,
      "outputs": [
        {
          "output_type": "stream",
          "name": "stdout",
          "text": [
            "Vocabulary size = 15065\n"
          ]
        }
      ]
    },
    {
      "cell_type": "markdown",
      "source": [
        "## Read GloVe Embedding"
      ],
      "metadata": {
        "id": "RtuaU0oNYu8F"
      }
    },
    {
      "cell_type": "code",
      "source": [
        "# !wget http://nlp.stanford.edu/data/glove.6B.zip"
      ],
      "metadata": {
        "id": "OZxCLW1-3AAA"
      },
      "execution_count": 18,
      "outputs": []
    },
    {
      "cell_type": "code",
      "source": [
        "glove_dir = '/content/drive/MyDrive/Learning Course/DTS PROA - ML with Tensorflow/Exercise/GloVe/'\n",
        "\n",
        "# unpack_archive('glove.6B.zip', glove_dir)\n",
        "# # os.remove('glove.6B.zip')"
      ],
      "metadata": {
        "id": "9Aovgnmc3RJ9"
      },
      "execution_count": 19,
      "outputs": []
    },
    {
      "cell_type": "code",
      "source": [
        "#Read GloVE embeddings\n",
        "# path_to_glove_file = '/content/drive/MyDrive/Learning Course/DTS PROA - ML with Tensorflow/Exercise/Week 6 - NLP/glove.6B.200d.txt'\n",
        "\n",
        "path_to_glove_file = os.path.join(glove_dir, 'glove.6B.300d.txt')\n",
        "\n",
        "num_tokens = vocabSize\n",
        "embedding_dim = 300\n",
        "hits = 0\n",
        "misses = 0\n",
        "embeddings_index = {}\n",
        "\n",
        "# Read word vectors\n",
        "with open(path_to_glove_file) as f:\n",
        "    for line in f:\n",
        "        word, coefs = line.split(maxsplit=1)\n",
        "        coefs = np.fromstring(coefs, 'f', sep=' ')\n",
        "        embeddings_index[word] = coefs\n",
        "print(f'Found {len(embeddings_index)} word vectors.')\n",
        "\n",
        "# Assign word vectors to our dictionary/vocabulary\n",
        "embedding_matrix = np.zeros((num_tokens, embedding_dim))\n",
        "for word, i in tokenizer.word_index.items():\n",
        "    embedding_vector = embeddings_index.get(word)\n",
        "    if embedding_vector is not None:\n",
        "        # Words not found in embedding index will be all-zeros.\n",
        "        # This includes the representation for 'padding' and 'OOV'\n",
        "        embedding_matrix[i] = embedding_vector\n",
        "        hits += 1\n",
        "    else:\n",
        "        misses += 1\n",
        "\n",
        "print(f'Converted {hits} words ({misses} misses)')"
      ],
      "metadata": {
        "colab": {
          "base_uri": "https://localhost:8080/"
        },
        "id": "lNnSwQ1eYS5-",
        "outputId": "f89744ef-dbf7-4619-f9fd-1a7e2846f3c8"
      },
      "execution_count": 20,
      "outputs": [
        {
          "output_type": "stream",
          "name": "stdout",
          "text": [
            "Found 400000 word vectors.\n",
            "Converted 14065 words (999 misses)\n"
          ]
        }
      ]
    },
    {
      "cell_type": "code",
      "source": [
        "embedding_layer = layers.Embedding(\n",
        "    num_tokens,\n",
        "    embedding_dim,\n",
        "    embeddings_initializer=tf.keras.initializers.Constant(embedding_matrix),\n",
        "    trainable=False,\n",
        ")"
      ],
      "metadata": {
        "id": "SX-0dZM7qwv4"
      },
      "execution_count": 21,
      "outputs": []
    },
    {
      "cell_type": "markdown",
      "source": [
        "## Training Viz Function"
      ],
      "metadata": {
        "id": "QAvUAp4ruMez"
      }
    },
    {
      "cell_type": "code",
      "source": [
        "def plot_history(history, metrics='loss', val_metrics='val_loss', \n",
        "                 ax=None, show=True, **kwargs):\n",
        "  if ax == None:\n",
        "    _, ax = plt.subplots(figsize=(8,6))\n",
        "\n",
        "  epochs = range(1, len(history.history[metrics])+1)\n",
        "\n",
        "  sns.lineplot(x=epochs, y=history.history[metrics],\n",
        "               label=f'training {metrics}', ax=ax, **kwargs)\n",
        "  sns.lineplot(x=epochs, y=history.history[val_metrics], \n",
        "               label=f'validation {metrics}', ax=ax, **kwargs)\n",
        "\n",
        "  ax.set_ylabel(metrics)\n",
        "  ax.set_xlabel('epochs')\n",
        "  ax.set_xlim(1, len(epochs))\n",
        "\n",
        "  ax.legend(loc='lower center', \n",
        "          bbox_to_anchor=(0.5, 1), \n",
        "          title='', ncol=2, frameon=False)\n",
        "\n",
        "  sns.despine()\n",
        "  if show:\n",
        "    plt.show()"
      ],
      "metadata": {
        "id": "8hxC-Y2wuPsU"
      },
      "execution_count": 22,
      "outputs": []
    },
    {
      "cell_type": "markdown",
      "source": [
        "# Model Default (Keras Tutorial)"
      ],
      "metadata": {
        "id": "VEZLoP38t-PU"
      }
    },
    {
      "cell_type": "markdown",
      "source": [
        "## Model Architecture"
      ],
      "metadata": {
        "id": "BbI2UJsuaD4K"
      }
    },
    {
      "cell_type": "code",
      "source": [
        "int_sequences_input = layers.Input(shape=(None,), dtype='int64')\n",
        "embedded_sequences = embedding_layer(int_sequences_input)\n",
        "x = layers.Conv1D(128, 5, activation='relu')(embedded_sequences)\n",
        "x = layers.MaxPooling1D(5)(x)\n",
        "x = layers.Conv1D(128, 5, activation='relu')(x)\n",
        "x = layers.MaxPooling1D(5)(x)\n",
        "x = layers.Conv1D(128, 5, activation='relu')(x)\n",
        "x = layers.GlobalMaxPooling1D()(x)\n",
        "x = layers.Dense(128, activation='relu')(x)\n",
        "x = layers.Dropout(0.2)(x)\n",
        "preds = layers.Dense(6, activation='softmax')(x)\n",
        "model = tf.keras.Model(int_sequences_input, preds)\n",
        "model.summary()"
      ],
      "metadata": {
        "colab": {
          "base_uri": "https://localhost:8080/"
        },
        "id": "NDethfZfrJrC",
        "outputId": "152f9acf-90df-4edc-b191-cd39f2b9f7e0"
      },
      "execution_count": 23,
      "outputs": [
        {
          "output_type": "stream",
          "name": "stdout",
          "text": [
            "Model: \"model\"\n",
            "_________________________________________________________________\n",
            " Layer (type)                Output Shape              Param #   \n",
            "=================================================================\n",
            " input_1 (InputLayer)        [(None, None)]            0         \n",
            "                                                                 \n",
            " embedding (Embedding)       (None, None, 300)         4519500   \n",
            "                                                                 \n",
            " conv1d (Conv1D)             (None, None, 128)         192128    \n",
            "                                                                 \n",
            " max_pooling1d (MaxPooling1D  (None, None, 128)        0         \n",
            " )                                                               \n",
            "                                                                 \n",
            " conv1d_1 (Conv1D)           (None, None, 128)         82048     \n",
            "                                                                 \n",
            " max_pooling1d_1 (MaxPooling  (None, None, 128)        0         \n",
            " 1D)                                                             \n",
            "                                                                 \n",
            " conv1d_2 (Conv1D)           (None, None, 128)         82048     \n",
            "                                                                 \n",
            " global_max_pooling1d (Globa  (None, 128)              0         \n",
            " lMaxPooling1D)                                                  \n",
            "                                                                 \n",
            " dense (Dense)               (None, 128)               16512     \n",
            "                                                                 \n",
            " dropout (Dropout)           (None, 128)               0         \n",
            "                                                                 \n",
            " dense_1 (Dense)             (None, 6)                 774       \n",
            "                                                                 \n",
            "=================================================================\n",
            "Total params: 4,893,010\n",
            "Trainable params: 373,510\n",
            "Non-trainable params: 4,519,500\n",
            "_________________________________________________________________\n"
          ]
        }
      ]
    },
    {
      "cell_type": "markdown",
      "source": [
        "## Compile"
      ],
      "metadata": {
        "id": "OHkWMTYcrxA0"
      }
    },
    {
      "cell_type": "code",
      "source": [
        "adam = Adam(learning_rate=0.005)\n",
        "\n",
        "model.compile(loss='sparse_categorical_crossentropy', \n",
        "              optimizer=adam, \n",
        "              metrics=['accuracy']\n",
        "              )"
      ],
      "metadata": {
        "id": "lms-Hcq5rtTo"
      },
      "execution_count": 24,
      "outputs": []
    },
    {
      "cell_type": "markdown",
      "source": [
        "## Callbacks"
      ],
      "metadata": {
        "id": "tn4CfyxBs1qH"
      }
    },
    {
      "cell_type": "code",
      "source": [
        "callbacks = [\n",
        "  tf.keras.callbacks.EarlyStopping(\n",
        "    monitor='val_loss',\n",
        "    min_delta=1e-3,\n",
        "    patience=3,\n",
        "    restore_best_weights=True,\n",
        "    verbose=1,\n",
        "  )\n",
        "]"
      ],
      "metadata": {
        "id": "jqta0_GCs2dJ"
      },
      "execution_count": 25,
      "outputs": []
    },
    {
      "cell_type": "markdown",
      "source": [
        "## Fit"
      ],
      "metadata": {
        "id": "SGesemM9r_wz"
      }
    },
    {
      "cell_type": "code",
      "source": [
        "history = model.fit(X_train_sequence, y_train_encode, \n",
        "                    batch_size=128, epochs=20, \n",
        "                    validation_data=(X_val_sequence, y_val_encode),\n",
        "                    callbacks=callbacks)"
      ],
      "metadata": {
        "colab": {
          "base_uri": "https://localhost:8080/"
        },
        "id": "ZZTHjLiLr_PQ",
        "outputId": "c8b25fa0-af58-4f80-b169-867444876121"
      },
      "execution_count": 26,
      "outputs": [
        {
          "output_type": "stream",
          "name": "stdout",
          "text": [
            "Epoch 1/20\n",
            "125/125 [==============================] - 16s 18ms/step - loss: 1.5814 - accuracy: 0.3330 - val_loss: 1.5412 - val_accuracy: 0.3440\n",
            "Epoch 2/20\n",
            "125/125 [==============================] - 2s 15ms/step - loss: 1.5050 - accuracy: 0.3776 - val_loss: 1.5082 - val_accuracy: 0.3945\n",
            "Epoch 3/20\n",
            "125/125 [==============================] - 2s 15ms/step - loss: 1.4338 - accuracy: 0.3972 - val_loss: 1.4818 - val_accuracy: 0.4090\n",
            "Epoch 4/20\n",
            "125/125 [==============================] - 2s 15ms/step - loss: 1.3650 - accuracy: 0.4263 - val_loss: 1.4943 - val_accuracy: 0.3705\n",
            "Epoch 5/20\n",
            "125/125 [==============================] - 2s 15ms/step - loss: 1.3074 - accuracy: 0.4503 - val_loss: 1.5168 - val_accuracy: 0.3715\n",
            "Epoch 6/20\n",
            "125/125 [==============================] - ETA: 0s - loss: 1.2489 - accuracy: 0.4776Restoring model weights from the end of the best epoch: 3.\n",
            "125/125 [==============================] - 2s 15ms/step - loss: 1.2489 - accuracy: 0.4776 - val_loss: 1.5424 - val_accuracy: 0.4150\n",
            "Epoch 6: early stopping\n"
          ]
        }
      ]
    },
    {
      "cell_type": "markdown",
      "source": [
        "## History"
      ],
      "metadata": {
        "id": "rw2pQ5OVslJd"
      }
    },
    {
      "cell_type": "code",
      "source": [
        "plot_history(history, metrics='loss', val_metrics='val_loss')"
      ],
      "metadata": {
        "colab": {
          "base_uri": "https://localhost:8080/",
          "height": 470
        },
        "id": "Vfxmg_1DsqRo",
        "outputId": "7c61a862-ae80-4ff2-a6f2-67a6c59df87f"
      },
      "execution_count": 27,
      "outputs": [
        {
          "output_type": "display_data",
          "data": {
            "text/plain": [
              "<Figure size 576x432 with 1 Axes>"
            ],
            "image/png": "[encoded data removed]"
          },
          "metadata": {}
        }
      ]
    },
    {
      "cell_type": "code",
      "source": [
        "plot_history(history, metrics='accuracy', val_metrics='val_accuracy')"
      ],
      "metadata": {
        "colab": {
          "base_uri": "https://localhost:8080/",
          "height": 470
        },
        "id": "KgkcUCOVsrwc",
        "outputId": "8f233599-2715-4ff0-b54a-e31948d2bcdc"
      },
      "execution_count": 28,
      "outputs": [
        {
          "output_type": "display_data",
          "data": {
            "text/plain": [
              "<Figure size 576x432 with 1 Axes>"
            ],
            "image/png": "[encoded data removed]"
          },
          "metadata": {}
        }
      ]
    },
    {
      "cell_type": "markdown",
      "source": [
        "## Evaluate"
      ],
      "metadata": {
        "id": "5hRgcFXvxZ96"
      }
    },
    {
      "cell_type": "code",
      "source": [
        "eval = model.evaluate(X_test_sequence, y_test_encode)\n",
        "\n",
        "print(f'loss\\t: {eval[0]:.3f}')\n",
        "print(f'acc\\t: {eval[1]:.3f}')"
      ],
      "metadata": {
        "colab": {
          "base_uri": "https://localhost:8080/"
        },
        "outputId": "5388e707-421e-462a-df0f-817e9744fe69",
        "id": "UQ1-TbgExZ99"
      },
      "execution_count": 44,
      "outputs": [
        {
          "output_type": "stream",
          "name": "stdout",
          "text": [
            "63/63 [==============================] - 0s 6ms/step - loss: 1.4622 - accuracy: 0.4065\n",
            "loss\t: 1.462\n",
            "acc\t: 0.407\n"
          ]
        }
      ]
    },
    {
      "cell_type": "markdown",
      "source": [
        "# Model with LSTM"
      ],
      "metadata": {
        "id": "hVfkcdIRuWto"
      }
    },
    {
      "cell_type": "markdown",
      "source": [
        "## Model Architecture"
      ],
      "metadata": {
        "id": "RvExaMIOuWtp"
      }
    },
    {
      "cell_type": "code",
      "source": [
        "int_sequences_input = layers.Input(shape=(None,), dtype='int64')\n",
        "embedded_sequences = embedding_layer(int_sequences_input)\n",
        "x = layers.Bidirectional(layers.LSTM(64))(embedded_sequences)\n",
        "x = layers.Dense(128, activation='relu')(x)\n",
        "x = layers.Dropout(0.2)(x)\n",
        "preds = layers.Dense(6, activation='softmax')(x)\n",
        "model = tf.keras.Model(int_sequences_input, preds)\n",
        "model.summary()"
      ],
      "metadata": {
        "colab": {
          "base_uri": "https://localhost:8080/"
        },
        "outputId": "77287cad-3685-49e9-f231-63c1734ce3b7",
        "id": "BbQM4mhcuWtp"
      },
      "execution_count": 45,
      "outputs": [
        {
          "output_type": "stream",
          "name": "stdout",
          "text": [
            "Model: \"model_1\"\n",
            "_________________________________________________________________\n",
            " Layer (type)                Output Shape              Param #   \n",
            "=================================================================\n",
            " input_2 (InputLayer)        [(None, None)]            0         \n",
            "                                                                 \n",
            " embedding (Embedding)       (None, None, 300)         4519500   \n",
            "                                                                 \n",
            " bidirectional (Bidirectiona  (None, 128)              186880    \n",
            " l)                                                              \n",
            "                                                                 \n",
            " dense_2 (Dense)             (None, 128)               16512     \n",
            "                                                                 \n",
            " dropout_1 (Dropout)         (None, 128)               0         \n",
            "                                                                 \n",
            " dense_3 (Dense)             (None, 6)                 774       \n",
            "                                                                 \n",
            "=================================================================\n",
            "Total params: 4,723,666\n",
            "Trainable params: 204,166\n",
            "Non-trainable params: 4,519,500\n",
            "_________________________________________________________________\n"
          ]
        }
      ]
    },
    {
      "cell_type": "markdown",
      "source": [
        "## Compile"
      ],
      "metadata": {
        "id": "JNbHl2pMuWtp"
      }
    },
    {
      "cell_type": "code",
      "source": [
        "adam = Adam(learning_rate=0.005)\n",
        "\n",
        "model.compile(loss='sparse_categorical_crossentropy', \n",
        "              optimizer=adam, \n",
        "              metrics=['accuracy']\n",
        "              )"
      ],
      "metadata": {
        "id": "NHH39YGzuWtq"
      },
      "execution_count": 46,
      "outputs": []
    },
    {
      "cell_type": "markdown",
      "source": [
        "## Callbacks"
      ],
      "metadata": {
        "id": "JRPhJFGluWtq"
      }
    },
    {
      "cell_type": "code",
      "source": [
        "callbacks = [\n",
        "  tf.keras.callbacks.EarlyStopping(\n",
        "    monitor='val_loss',\n",
        "    min_delta=1e-3,\n",
        "    patience=3,\n",
        "    restore_best_weights=True,\n",
        "    verbose=1,\n",
        "  )\n",
        "]"
      ],
      "metadata": {
        "id": "a53zuQS5uWtq"
      },
      "execution_count": 47,
      "outputs": []
    },
    {
      "cell_type": "markdown",
      "source": [
        "## Fit"
      ],
      "metadata": {
        "id": "JnDxjmP_uWtr"
      }
    },
    {
      "cell_type": "code",
      "source": [
        "history = model.fit(X_train_sequence, y_train_encode, \n",
        "                    batch_size=128, epochs=20, \n",
        "                    validation_data=(X_val_sequence, y_val_encode),\n",
        "                    callbacks=callbacks)"
      ],
      "metadata": {
        "colab": {
          "base_uri": "https://localhost:8080/"
        },
        "outputId": "6bdbdb72-86ea-4268-f155-ee19b3d2d622",
        "id": "lqkjyae1uWtr"
      },
      "execution_count": 48,
      "outputs": [
        {
          "output_type": "stream",
          "name": "stdout",
          "text": [
            "Epoch 1/20\n",
            "125/125 [==============================] - 9s 42ms/step - loss: 0.8676 - accuracy: 0.6833 - val_loss: 0.3688 - val_accuracy: 0.8725\n",
            "Epoch 2/20\n",
            "125/125 [==============================] - 5s 37ms/step - loss: 0.2640 - accuracy: 0.9007 - val_loss: 0.2365 - val_accuracy: 0.9060\n",
            "Epoch 3/20\n",
            "125/125 [==============================] - 5s 38ms/step - loss: 0.1494 - accuracy: 0.9381 - val_loss: 0.1828 - val_accuracy: 0.9190\n",
            "Epoch 4/20\n",
            "125/125 [==============================] - 4s 32ms/step - loss: 0.1011 - accuracy: 0.9562 - val_loss: 0.1862 - val_accuracy: 0.9230\n",
            "Epoch 5/20\n",
            "125/125 [==============================] - 4s 31ms/step - loss: 0.0755 - accuracy: 0.9696 - val_loss: 0.1994 - val_accuracy: 0.9200\n",
            "Epoch 6/20\n",
            "125/125 [==============================] - ETA: 0s - loss: 0.0620 - accuracy: 0.9743Restoring model weights from the end of the best epoch: 3.\n",
            "125/125 [==============================] - 4s 32ms/step - loss: 0.0620 - accuracy: 0.9743 - val_loss: 0.2194 - val_accuracy: 0.9210\n",
            "Epoch 6: early stopping\n"
          ]
        }
      ]
    },
    {
      "cell_type": "markdown",
      "source": [
        "## History"
      ],
      "metadata": {
        "id": "6PGPdKgnuWts"
      }
    },
    {
      "cell_type": "code",
      "source": [
        "plot_history(history, metrics='loss', val_metrics='val_loss')"
      ],
      "metadata": {
        "colab": {
          "base_uri": "https://localhost:8080/",
          "height": 470
        },
        "outputId": "843f8261-30e7-4c12-fd80-22eb68bb66cb",
        "id": "PLTvJl4duWts"
      },
      "execution_count": 49,
      "outputs": [
        {
          "output_type": "display_data",
          "data": {
            "text/plain": [
              "<Figure size 576x432 with 1 Axes>"
            ],
            "image/png": "[encoded data removed]"
          },
          "metadata": {}
        }
      ]
    },
    {
      "cell_type": "code",
      "source": [
        "plot_history(history, metrics='accuracy', val_metrics='val_accuracy')"
      ],
      "metadata": {
        "colab": {
          "base_uri": "https://localhost:8080/",
          "height": 470
        },
        "outputId": "0b028876-b0d0-44f8-8592-cf57cf306b04",
        "id": "hde6-LYeuWts"
      },
      "execution_count": 50,
      "outputs": [
        {
          "output_type": "display_data",
          "data": {
            "text/plain": [
              "<Figure size 576x432 with 1 Axes>"
            ],
            "image/png": "[encoded data removed]"
          },
          "metadata": {}
        }
      ]
    },
    {
      "cell_type": "markdown",
      "source": [
        "## Evaluate"
      ],
      "metadata": {
        "id": "ZDLMH4fcyfyT"
      }
    },
    {
      "cell_type": "code",
      "source": [
        "eval = model.evaluate(X_test_sequence, y_test_encode)\n",
        "\n",
        "print(f'loss\\t: {eval[0]:.3f}')\n",
        "print(f'acc\\t: {eval[1]:.3f}')"
      ],
      "metadata": {
        "colab": {
          "base_uri": "https://localhost:8080/"
        },
        "outputId": "772c82de-ae2e-44aa-ae08-35cbf6c7b4db",
        "id": "RTKbrmrZyfyW"
      },
      "execution_count": 51,
      "outputs": [
        {
          "output_type": "stream",
          "name": "stdout",
          "text": [
            "63/63 [==============================] - 1s 12ms/step - loss: 0.1747 - accuracy: 0.9230\n",
            "loss\t: 0.175\n",
            "acc\t: 0.923\n"
          ]
        }
      ]
    },
    {
      "cell_type": "markdown",
      "source": [
        "# Model with GRU"
      ],
      "metadata": {
        "id": "58s4IVX6wlxa"
      }
    },
    {
      "cell_type": "markdown",
      "source": [
        "## Model Architecture"
      ],
      "metadata": {
        "id": "8f45ZXFDwlxb"
      }
    },
    {
      "cell_type": "code",
      "source": [
        "int_sequences_input = layers.Input(shape=(None,), dtype='int64')\n",
        "embedded_sequences = embedding_layer(int_sequences_input)\n",
        "x = layers.Bidirectional(layers.GRU(64))(embedded_sequences)\n",
        "x = layers.Dense(128, activation='relu')(x)\n",
        "x = layers.Dropout(0.2)(x)\n",
        "preds = layers.Dense(6, activation='softmax')(x)\n",
        "model = tf.keras.Model(int_sequences_input, preds)\n",
        "model.summary()"
      ],
      "metadata": {
        "colab": {
          "base_uri": "https://localhost:8080/"
        },
        "outputId": "9025150c-eac7-4689-f2b9-b5f119667bb3",
        "id": "OS-xmvtgwlxb"
      },
      "execution_count": 52,
      "outputs": [
        {
          "output_type": "stream",
          "name": "stdout",
          "text": [
            "Model: \"model_2\"\n",
            "_________________________________________________________________\n",
            " Layer (type)                Output Shape              Param #   \n",
            "=================================================================\n",
            " input_3 (InputLayer)        [(None, None)]            0         \n",
            "                                                                 \n",
            " embedding (Embedding)       (None, None, 300)         4519500   \n",
            "                                                                 \n",
            " bidirectional_1 (Bidirectio  (None, 128)              140544    \n",
            " nal)                                                            \n",
            "                                                                 \n",
            " dense_4 (Dense)             (None, 128)               16512     \n",
            "                                                                 \n",
            " dropout_2 (Dropout)         (None, 128)               0         \n",
            "                                                                 \n",
            " dense_5 (Dense)             (None, 6)                 774       \n",
            "                                                                 \n",
            "=================================================================\n",
            "Total params: 4,677,330\n",
            "Trainable params: 157,830\n",
            "Non-trainable params: 4,519,500\n",
            "_________________________________________________________________\n"
          ]
        }
      ]
    },
    {
      "cell_type": "markdown",
      "source": [
        "## Compile"
      ],
      "metadata": {
        "id": "x5tr6d0-wlxc"
      }
    },
    {
      "cell_type": "code",
      "source": [
        "adam = Adam(learning_rate=0.005)\n",
        "\n",
        "model.compile(loss='sparse_categorical_crossentropy', \n",
        "              optimizer=adam, \n",
        "              metrics=['accuracy']\n",
        "              )"
      ],
      "metadata": {
        "id": "ICI5Uh4Lwlxc"
      },
      "execution_count": 53,
      "outputs": []
    },
    {
      "cell_type": "markdown",
      "source": [
        "## Callbacks"
      ],
      "metadata": {
        "id": "NPlos2oDwlxd"
      }
    },
    {
      "cell_type": "code",
      "source": [
        "callbacks = [\n",
        "  tf.keras.callbacks.EarlyStopping(\n",
        "    monitor='val_loss',\n",
        "    min_delta=1e-3,\n",
        "    patience=3,\n",
        "    restore_best_weights=True,\n",
        "    verbose=1,\n",
        "  )\n",
        "]"
      ],
      "metadata": {
        "id": "NrJBL2sCwlxd"
      },
      "execution_count": 54,
      "outputs": []
    },
    {
      "cell_type": "markdown",
      "source": [
        "## Fit"
      ],
      "metadata": {
        "id": "rnWw9uwnwlxd"
      }
    },
    {
      "cell_type": "code",
      "source": [
        "history = model.fit(X_train_sequence, y_train_encode, \n",
        "                    batch_size=128, epochs=20, \n",
        "                    validation_data=(X_val_sequence, y_val_encode),\n",
        "                    callbacks=callbacks)"
      ],
      "metadata": {
        "colab": {
          "base_uri": "https://localhost:8080/"
        },
        "outputId": "6882a4d4-7c5d-477e-bb26-e30cd70715d3",
        "id": "xq-gbaMKwlxe"
      },
      "execution_count": 55,
      "outputs": [
        {
          "output_type": "stream",
          "name": "stdout",
          "text": [
            "Epoch 1/20\n",
            "125/125 [==============================] - 7s 33ms/step - loss: 0.7146 - accuracy: 0.7389 - val_loss: 0.2297 - val_accuracy: 0.9085\n",
            "Epoch 2/20\n",
            "125/125 [==============================] - 3s 26ms/step - loss: 0.1898 - accuracy: 0.9217 - val_loss: 0.1781 - val_accuracy: 0.9260\n",
            "Epoch 3/20\n",
            "125/125 [==============================] - 3s 26ms/step - loss: 0.1253 - accuracy: 0.9436 - val_loss: 0.1510 - val_accuracy: 0.9320\n",
            "Epoch 4/20\n",
            "125/125 [==============================] - 3s 26ms/step - loss: 0.0947 - accuracy: 0.9571 - val_loss: 0.1571 - val_accuracy: 0.9325\n",
            "Epoch 5/20\n",
            "125/125 [==============================] - 3s 26ms/step - loss: 0.0767 - accuracy: 0.9655 - val_loss: 0.1733 - val_accuracy: 0.9265\n",
            "Epoch 6/20\n",
            "124/125 [============================>.] - ETA: 0s - loss: 0.0675 - accuracy: 0.9702Restoring model weights from the end of the best epoch: 3.\n",
            "125/125 [==============================] - 3s 26ms/step - loss: 0.0676 - accuracy: 0.9701 - val_loss: 0.1713 - val_accuracy: 0.9335\n",
            "Epoch 6: early stopping\n"
          ]
        }
      ]
    },
    {
      "cell_type": "markdown",
      "source": [
        "## History"
      ],
      "metadata": {
        "id": "Cd95sjbHwlxe"
      }
    },
    {
      "cell_type": "code",
      "source": [
        "plot_history(history, metrics='loss', val_metrics='val_loss')"
      ],
      "metadata": {
        "colab": {
          "base_uri": "https://localhost:8080/",
          "height": 470
        },
        "outputId": "b0118c61-c27f-4700-d0fb-858143bfa63e",
        "id": "QTFFWRHPwlxe"
      },
      "execution_count": 56,
      "outputs": [
        {
          "output_type": "display_data",
          "data": {
            "text/plain": [
              "<Figure size 576x432 with 1 Axes>"
            ],
            "image/png": "[encoded data removed]"
          },
          "metadata": {}
        }
      ]
    },
    {
      "cell_type": "code",
      "source": [
        "plot_history(history, metrics='accuracy', val_metrics='val_accuracy')"
      ],
      "metadata": {
        "colab": {
          "base_uri": "https://localhost:8080/",
          "height": 470
        },
        "outputId": "12481302-e650-45d8-bfb7-c3b96f47e6ac",
        "id": "w3pDni74wlxf"
      },
      "execution_count": 57,
      "outputs": [
        {
          "output_type": "display_data",
          "data": {
            "text/plain": [
              "<Figure size 576x432 with 1 Axes>"
            ],
            "image/png": "[encoded data removed]"
          },
          "metadata": {}
        }
      ]
    },
    {
      "cell_type": "markdown",
      "source": [
        "## Evaluate"
      ],
      "metadata": {
        "id": "FiK0AcOzyhpt"
      }
    },
    {
      "cell_type": "code",
      "source": [
        "eval = model.evaluate(X_test_sequence, y_test_encode)\n",
        "\n",
        "print(f'loss\\t: {eval[0]:.3f}')\n",
        "print(f'acc\\t: {eval[1]:.3f}')"
      ],
      "metadata": {
        "colab": {
          "base_uri": "https://localhost:8080/"
        },
        "outputId": "667e6a9d-8feb-4928-a6d6-b2508db8ca3f",
        "id": "Lg14Ik5Xyhpv"
      },
      "execution_count": 58,
      "outputs": [
        {
          "output_type": "stream",
          "name": "stdout",
          "text": [
            "63/63 [==============================] - 1s 11ms/step - loss: 0.1620 - accuracy: 0.9245\n",
            "loss\t: 0.162\n",
            "acc\t: 0.924\n"
          ]
        }
      ]
    },
    {
      "cell_type": "markdown",
      "source": [
        "# Model with Conv1D"
      ],
      "metadata": {
        "id": "OtYywokTw4d3"
      }
    },
    {
      "cell_type": "markdown",
      "source": [
        "## Model Architecture"
      ],
      "metadata": {
        "id": "2R3UU7OLw4eA"
      }
    },
    {
      "cell_type": "code",
      "source": [
        "int_sequences_input = layers.Input(shape=(None,), dtype='int64')\n",
        "embedded_sequences = embedding_layer(int_sequences_input)\n",
        "x = layers.Conv1D(128, 5, activation='relu')(embedded_sequences)\n",
        "x = layers.GlobalAveragePooling1D()(x)\n",
        "x = layers.Dense(128, activation='relu')(x)\n",
        "x = layers.Dropout(0.2)(x)\n",
        "preds = layers.Dense(6, activation='softmax')(x)\n",
        "model = tf.keras.Model(int_sequences_input, preds)\n",
        "model.summary()"
      ],
      "metadata": {
        "colab": {
          "base_uri": "https://localhost:8080/"
        },
        "outputId": "ed3d8620-8944-4716-e066-e7df91154085",
        "id": "AuC72QaAw4eB"
      },
      "execution_count": 59,
      "outputs": [
        {
          "output_type": "stream",
          "name": "stdout",
          "text": [
            "Model: \"model_3\"\n",
            "_________________________________________________________________\n",
            " Layer (type)                Output Shape              Param #   \n",
            "=================================================================\n",
            " input_4 (InputLayer)        [(None, None)]            0         \n",
            "                                                                 \n",
            " embedding (Embedding)       (None, None, 300)         4519500   \n",
            "                                                                 \n",
            " conv1d_3 (Conv1D)           (None, None, 128)         192128    \n",
            "                                                                 \n",
            " global_average_pooling1d (G  (None, 128)              0         \n",
            " lobalAveragePooling1D)                                          \n",
            "                                                                 \n",
            " dense_6 (Dense)             (None, 128)               16512     \n",
            "                                                                 \n",
            " dropout_3 (Dropout)         (None, 128)               0         \n",
            "                                                                 \n",
            " dense_7 (Dense)             (None, 6)                 774       \n",
            "                                                                 \n",
            "=================================================================\n",
            "Total params: 4,728,914\n",
            "Trainable params: 209,414\n",
            "Non-trainable params: 4,519,500\n",
            "_________________________________________________________________\n"
          ]
        }
      ]
    },
    {
      "cell_type": "markdown",
      "source": [
        "## Compile"
      ],
      "metadata": {
        "id": "7wLL_71ww4eF"
      }
    },
    {
      "cell_type": "code",
      "source": [
        "adam = Adam(learning_rate=0.005)\n",
        "\n",
        "model.compile(loss='sparse_categorical_crossentropy', \n",
        "              optimizer=adam, \n",
        "              metrics=['accuracy']\n",
        "              )"
      ],
      "metadata": {
        "id": "NUJqewACw4eG"
      },
      "execution_count": 60,
      "outputs": []
    },
    {
      "cell_type": "markdown",
      "source": [
        "## Callbacks"
      ],
      "metadata": {
        "id": "cKpYTgB0w4eG"
      }
    },
    {
      "cell_type": "code",
      "source": [
        "callbacks = [\n",
        "  tf.keras.callbacks.EarlyStopping(\n",
        "    monitor='val_loss',\n",
        "    min_delta=1e-3,\n",
        "    patience=3,\n",
        "    restore_best_weights=True,\n",
        "    verbose=1,\n",
        "  )\n",
        "]"
      ],
      "metadata": {
        "id": "GAraj1Tew4eG"
      },
      "execution_count": 61,
      "outputs": []
    },
    {
      "cell_type": "markdown",
      "source": [
        "## Fit"
      ],
      "metadata": {
        "id": "43ZLzU0kw4eG"
      }
    },
    {
      "cell_type": "code",
      "source": [
        "history = model.fit(X_train_sequence, y_train_encode, \n",
        "                    batch_size=128, epochs=20, \n",
        "                    validation_data=(X_val_sequence, y_val_encode),\n",
        "                    callbacks=callbacks)"
      ],
      "metadata": {
        "colab": {
          "base_uri": "https://localhost:8080/"
        },
        "outputId": "473aeef8-078c-43b4-be81-3c5e0dd3688f",
        "id": "aiXoBp29w4eG"
      },
      "execution_count": 62,
      "outputs": [
        {
          "output_type": "stream",
          "name": "stdout",
          "text": [
            "Epoch 1/20\n",
            "125/125 [==============================] - 2s 14ms/step - loss: 1.3715 - accuracy: 0.4812 - val_loss: 1.0934 - val_accuracy: 0.6310\n",
            "Epoch 2/20\n",
            "125/125 [==============================] - 2s 12ms/step - loss: 0.9021 - accuracy: 0.6808 - val_loss: 0.7428 - val_accuracy: 0.7500\n",
            "Epoch 3/20\n",
            "125/125 [==============================] - 1s 12ms/step - loss: 0.6447 - accuracy: 0.7747 - val_loss: 0.6078 - val_accuracy: 0.7810\n",
            "Epoch 4/20\n",
            "125/125 [==============================] - 2s 13ms/step - loss: 0.4806 - accuracy: 0.8343 - val_loss: 0.5035 - val_accuracy: 0.8240\n",
            "Epoch 5/20\n",
            "125/125 [==============================] - 2s 12ms/step - loss: 0.3450 - accuracy: 0.8810 - val_loss: 0.4766 - val_accuracy: 0.8265\n",
            "Epoch 6/20\n",
            "125/125 [==============================] - 2s 12ms/step - loss: 0.2524 - accuracy: 0.9167 - val_loss: 0.4311 - val_accuracy: 0.8435\n",
            "Epoch 7/20\n",
            "125/125 [==============================] - 1s 12ms/step - loss: 0.1737 - accuracy: 0.9435 - val_loss: 0.4623 - val_accuracy: 0.8480\n",
            "Epoch 8/20\n",
            "125/125 [==============================] - 2s 12ms/step - loss: 0.1306 - accuracy: 0.9586 - val_loss: 0.4917 - val_accuracy: 0.8505\n",
            "Epoch 9/20\n",
            "121/125 [============================>.] - ETA: 0s - loss: 0.0998 - accuracy: 0.9681Restoring model weights from the end of the best epoch: 6.\n",
            "125/125 [==============================] - 1s 12ms/step - loss: 0.0992 - accuracy: 0.9682 - val_loss: 0.4744 - val_accuracy: 0.8490\n",
            "Epoch 9: early stopping\n"
          ]
        }
      ]
    },
    {
      "cell_type": "markdown",
      "source": [
        "## History"
      ],
      "metadata": {
        "id": "SkolsbGEw4eH"
      }
    },
    {
      "cell_type": "code",
      "source": [
        "plot_history(history, metrics='loss', val_metrics='val_loss')"
      ],
      "metadata": {
        "colab": {
          "base_uri": "https://localhost:8080/",
          "height": 470
        },
        "outputId": "9c269ec6-f5b7-4110-bcda-aa8fac8e1410",
        "id": "mrwvKPZmw4eH"
      },
      "execution_count": 63,
      "outputs": [
        {
          "output_type": "display_data",
          "data": {
            "text/plain": [
              "<Figure size 576x432 with 1 Axes>"
            ],
            "image/png": "[encoded data removed]"
          },
          "metadata": {}
        }
      ]
    },
    {
      "cell_type": "code",
      "source": [
        "plot_history(history, metrics='accuracy', val_metrics='val_accuracy')"
      ],
      "metadata": {
        "colab": {
          "base_uri": "https://localhost:8080/",
          "height": 470
        },
        "outputId": "83d74056-c2de-4433-9f6b-feee73723603",
        "id": "o9D7reRLw4eH"
      },
      "execution_count": 64,
      "outputs": [
        {
          "output_type": "display_data",
          "data": {
            "text/plain": [
              "<Figure size 576x432 with 1 Axes>"
            ],
            "image/png": "[encoded data removed]"
          },
          "metadata": {}
        }
      ]
    },
    {
      "cell_type": "markdown",
      "source": [
        "## Evaluate"
      ],
      "metadata": {
        "id": "MOew_W7Vyink"
      }
    },
    {
      "cell_type": "code",
      "source": [
        "eval = model.evaluate(X_test_sequence, y_test_encode)\n",
        "\n",
        "print(f'loss\\t: {eval[0]:.3f}')\n",
        "print(f'acc\\t: {eval[1]:.3f}')"
      ],
      "metadata": {
        "colab": {
          "base_uri": "https://localhost:8080/"
        },
        "outputId": "e9301731-6aad-4fb0-a268-33e5ce41f25b",
        "id": "k0afEkWNyinl"
      },
      "execution_count": 65,
      "outputs": [
        {
          "output_type": "stream",
          "name": "stdout",
          "text": [
            "63/63 [==============================] - 0s 4ms/step - loss: 0.4485 - accuracy: 0.8545\n",
            "loss\t: 0.449\n",
            "acc\t: 0.854\n"
          ]
        }
      ]
    },
    {
      "cell_type": "markdown",
      "source": [
        "# Model Experiment"
      ],
      "metadata": {
        "id": "xJWEAkvfx0IF"
      }
    },
    {
      "cell_type": "markdown",
      "source": [
        "## Model Architecture"
      ],
      "metadata": {
        "id": "ZXpB7FKgx0IR"
      }
    },
    {
      "cell_type": "code",
      "source": [
        "int_sequences_input = layers.Input(shape=(None,), dtype='int64')\n",
        "embedded_sequences = embedding_layer(int_sequences_input)\n",
        "x = layers.Bidirectional(layers.LSTM(64, return_sequences=True))(embedded_sequences)\n",
        "x = layers.Bidirectional(layers.GRU(64))(embedded_sequences)\n",
        "x = layers.Dense(128, activation='relu')(x)\n",
        "x = layers.Dense(64, activation='relu')(x)\n",
        "x = layers.Dropout(0.2)(x)\n",
        "preds = layers.Dense(6, activation='softmax')(x)\n",
        "\n",
        "model = tf.keras.Model(int_sequences_input, preds)\n",
        "model.summary()"
      ],
      "metadata": {
        "colab": {
          "base_uri": "https://localhost:8080/"
        },
        "outputId": "63a3e16d-daf6-4367-9291-0617a57be9ea",
        "id": "O2XkV9uqx0IR"
      },
      "execution_count": 73,
      "outputs": [
        {
          "output_type": "stream",
          "name": "stdout",
          "text": [
            "Model: \"model_5\"\n",
            "_________________________________________________________________\n",
            " Layer (type)                Output Shape              Param #   \n",
            "=================================================================\n",
            " input_6 (InputLayer)        [(None, None)]            0         \n",
            "                                                                 \n",
            " embedding (Embedding)       (None, None, 300)         4519500   \n",
            "                                                                 \n",
            " bidirectional_4 (Bidirectio  (None, 128)              140544    \n",
            " nal)                                                            \n",
            "                                                                 \n",
            " dense_11 (Dense)            (None, 128)               16512     \n",
            "                                                                 \n",
            " dense_12 (Dense)            (None, 64)                8256      \n",
            "                                                                 \n",
            " dropout_5 (Dropout)         (None, 64)                0         \n",
            "                                                                 \n",
            " dense_13 (Dense)            (None, 6)                 390       \n",
            "                                                                 \n",
            "=================================================================\n",
            "Total params: 4,685,202\n",
            "Trainable params: 165,702\n",
            "Non-trainable params: 4,519,500\n",
            "_________________________________________________________________\n"
          ]
        }
      ]
    },
    {
      "cell_type": "markdown",
      "source": [
        "## Compile"
      ],
      "metadata": {
        "id": "TN6ZjhtPx0IS"
      }
    },
    {
      "cell_type": "code",
      "source": [
        "adam = Adam(learning_rate=0.0025)\n",
        "\n",
        "model.compile(loss='sparse_categorical_crossentropy', \n",
        "              optimizer=adam, \n",
        "              metrics=['accuracy']\n",
        "              )"
      ],
      "metadata": {
        "id": "R_mVYpclx0IT"
      },
      "execution_count": 74,
      "outputs": []
    },
    {
      "cell_type": "markdown",
      "source": [
        "## Callbacks"
      ],
      "metadata": {
        "id": "DebFULxqx0IT"
      }
    },
    {
      "cell_type": "code",
      "source": [
        "callbacks = [\n",
        "  tf.keras.callbacks.EarlyStopping(\n",
        "    monitor='val_loss',\n",
        "    min_delta=1e-3,\n",
        "    patience=3,\n",
        "    restore_best_weights=True,\n",
        "    verbose=1,\n",
        "  )\n",
        "]"
      ],
      "metadata": {
        "id": "uTxJwatGx0IT"
      },
      "execution_count": 75,
      "outputs": []
    },
    {
      "cell_type": "markdown",
      "source": [
        "## Fit"
      ],
      "metadata": {
        "id": "u1FhYWR2x0IU"
      }
    },
    {
      "cell_type": "code",
      "source": [
        "history = model.fit(X_train_sequence, y_train_encode, \n",
        "                    batch_size=128, epochs=20, \n",
        "                    validation_data=(X_val_sequence, y_val_encode),\n",
        "                    callbacks=callbacks)"
      ],
      "metadata": {
        "colab": {
          "base_uri": "https://localhost:8080/"
        },
        "outputId": "0f5a8eea-7fbb-45e3-80b0-f483a64188da",
        "id": "Y-tWhBnox0IU"
      },
      "execution_count": 76,
      "outputs": [
        {
          "output_type": "stream",
          "name": "stdout",
          "text": [
            "Epoch 1/20\n",
            "125/125 [==============================] - 7s 36ms/step - loss: 0.9472 - accuracy: 0.6586 - val_loss: 0.3440 - val_accuracy: 0.8760\n",
            "Epoch 2/20\n",
            "125/125 [==============================] - 4s 32ms/step - loss: 0.2819 - accuracy: 0.8949 - val_loss: 0.2122 - val_accuracy: 0.9140\n",
            "Epoch 3/20\n",
            "125/125 [==============================] - 3s 26ms/step - loss: 0.1701 - accuracy: 0.9298 - val_loss: 0.1612 - val_accuracy: 0.9295\n",
            "Epoch 4/20\n",
            "125/125 [==============================] - 3s 26ms/step - loss: 0.1222 - accuracy: 0.9453 - val_loss: 0.1911 - val_accuracy: 0.9230\n",
            "Epoch 5/20\n",
            "125/125 [==============================] - 3s 26ms/step - loss: 0.1000 - accuracy: 0.9541 - val_loss: 0.1571 - val_accuracy: 0.9285\n",
            "Epoch 6/20\n",
            "125/125 [==============================] - 3s 26ms/step - loss: 0.0841 - accuracy: 0.9606 - val_loss: 0.1711 - val_accuracy: 0.9290\n",
            "Epoch 7/20\n",
            "125/125 [==============================] - 3s 26ms/step - loss: 0.0741 - accuracy: 0.9646 - val_loss: 0.2244 - val_accuracy: 0.9205\n",
            "Epoch 8/20\n",
            "125/125 [==============================] - ETA: 0s - loss: 0.0644 - accuracy: 0.9702Restoring model weights from the end of the best epoch: 5.\n",
            "125/125 [==============================] - 3s 26ms/step - loss: 0.0644 - accuracy: 0.9702 - val_loss: 0.2065 - val_accuracy: 0.9260\n",
            "Epoch 8: early stopping\n"
          ]
        }
      ]
    },
    {
      "cell_type": "markdown",
      "source": [
        "## History"
      ],
      "metadata": {
        "id": "ly1jv8L7x0IV"
      }
    },
    {
      "cell_type": "code",
      "source": [
        "plot_history(history, metrics='loss', val_metrics='val_loss')"
      ],
      "metadata": {
        "colab": {
          "base_uri": "https://localhost:8080/",
          "height": 470
        },
        "outputId": "d1b1238c-f6fe-4196-c77c-2b0c6cb2a390",
        "id": "fcVT_tVlx0IV"
      },
      "execution_count": 77,
      "outputs": [
        {
          "output_type": "display_data",
          "data": {
            "text/plain": [
              "<Figure size 576x432 with 1 Axes>"
            ],
            "image/png": "[encoded data removed]"
          },
          "metadata": {}
        }
      ]
    },
    {
      "cell_type": "code",
      "source": [
        "plot_history(history, metrics='accuracy', val_metrics='val_accuracy')"
      ],
      "metadata": {
        "colab": {
          "base_uri": "https://localhost:8080/",
          "height": 470
        },
        "outputId": "6c649c2e-853b-4f03-9ff4-b9f6dc47a87e",
        "id": "EGt2DotDx0IV"
      },
      "execution_count": 78,
      "outputs": [
        {
          "output_type": "display_data",
          "data": {
            "text/plain": [
              "<Figure size 576x432 with 1 Axes>"
            ],
            "image/png": "[encoded data removed]"
          },
          "metadata": {}
        }
      ]
    },
    {
      "cell_type": "markdown",
      "source": [
        "## Evaluate"
      ],
      "metadata": {
        "id": "7SXDuGfDJYjE"
      }
    },
    {
      "cell_type": "code",
      "source": [
        "eval = model.evaluate(X_test_sequence, y_test_encode)\n",
        "\n",
        "print(f'loss\\t: {eval[0]:.3f}')\n",
        "print(f'acc\\t: {eval[1]:.3f}')"
      ],
      "metadata": {
        "colab": {
          "base_uri": "https://localhost:8080/"
        },
        "outputId": "29a6e4d1-6d5c-491e-fde9-848e5a99359a",
        "id": "xdhB7DjOywhK"
      },
      "execution_count": 79,
      "outputs": [
        {
          "output_type": "stream",
          "name": "stdout",
          "text": [
            "63/63 [==============================] - 1s 12ms/step - loss: 0.1616 - accuracy: 0.9270\n",
            "loss\t: 0.162\n",
            "acc\t: 0.927\n"
          ]
        }
      ]
    },
    {
      "cell_type": "markdown",
      "source": [
        "# References\n",
        "\n",
        "Keras Documentation. \"Using pre-trained word embeddings\". [source](https://keras.io/examples/nlp/pretrained_word_embeddings/)"
      ],
      "metadata": {
        "id": "RYWQh_vUtfXy"
      }
    }
  ]
}